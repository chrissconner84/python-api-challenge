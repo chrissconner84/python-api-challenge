{
 "cells": [
  {
   "cell_type": "markdown",
   "metadata": {},
   "source": [
    "# WeatherPy\n",
    "----\n",
    "\n",
    "#### Note\n",
    "* Instructions have been included for each segment. You do not have to follow them exactly, but they are included to help you think through the steps."
   ]
  },
  {
   "cell_type": "code",
   "execution_count": 1,
   "metadata": {
    "scrolled": true
   },
   "outputs": [],
   "source": [
    "# Dependencies and Setup\n",
    "import matplotlib.pyplot as plt\n",
    "import pandas as pd\n",
    "import numpy as np\n",
    "import requests\n",
    "import time\n",
    "from scipy.stats import linregress\n",
    "import pprint\n",
    "\n",
    "# Import API key\n",
    "from api_keys import weather_api_key\n",
    "\n",
    "# Incorporated citipy to determine city based on latitude and longitude\n",
    "from citipy import citipy\n",
    "\n",
    "# Output File (CSV)\n",
    "output_data_file = \"output_data/cities.csv\"\n",
    "\n",
    "# Range of latitudes and longitudes\n",
    "lat_range = (-90, 90)\n",
    "lng_range = (-180, 180)"
   ]
  },
  {
   "cell_type": "markdown",
   "metadata": {},
   "source": [
    "## Generate Cities List"
   ]
  },
  {
   "cell_type": "code",
   "execution_count": 2,
   "metadata": {},
   "outputs": [],
   "source": [
    "# List for holding lat_lngs and cities\n",
    "lat_lngs = []\n",
    "cities = []\n",
    "\n",
    "# Create a set of random lat and lng combinations\n",
    "lats = np.random.uniform(lat_range[0], lat_range[1], size=1500)\n",
    "lngs = np.random.uniform(lng_range[0], lng_range[1], size=1500)\n",
    "lat_lngs = zip(lats, lngs)\n",
    "new_lat=[]\n",
    "new_lng=[]\n"
   ]
  },
  {
   "cell_type": "code",
   "execution_count": 3,
   "metadata": {},
   "outputs": [
    {
     "data": {
      "text/plain": [
       "623"
      ]
     },
     "execution_count": 3,
     "metadata": {},
     "output_type": "execute_result"
    }
   ],
   "source": [
    "# Identify nearest city for each lat, lng combination\n",
    "for lat_lng in lat_lngs:\n",
    "    city = citipy.nearest_city(lat_lng[0], lat_lng[1]).city_name\n",
    "    \n",
    "    # If the city is unique, then add it to a our cities list\n",
    "    if city not in cities:\n",
    "        cities.append(city)    \n",
    "\n",
    "len(cities)"
   ]
  },
  {
   "cell_type": "markdown",
   "metadata": {},
   "source": [
    "### Perform API Calls\n",
    "* Perform a weather check on each city using a series of successive API calls.\n",
    "* Include a print log of each city as it'sbeing processed (with the city number and city name).\n",
    "\n",
    "> **HINT:** The OpenWeatherMap API only allows 60 calls per minute under their free plan. Try using `time.sleep(60)` after each set of 50 cities to avoid API errors due to large calls."
   ]
  },
  {
   "cell_type": "code",
   "execution_count": 4,
   "metadata": {},
   "outputs": [
    {
     "name": "stdout",
     "output_type": "stream",
     "text": [
      "http://api.openweathermap.org/data/2.5/weather?appid=ac754380fe45caa109559606cd682047&units=metric&q=\n"
     ]
    }
   ],
   "source": [
    "# Save config information.\n",
    "url = \"http://api.openweathermap.org/data/2.5/weather?\"\n",
    "units = \"metric\"\n",
    "\n",
    "# Build partial query URL\n",
    "query_url = f\"{url}appid={weather_api_key}&units={units}&q=\"\n",
    "print(query_url)\n"
   ]
  },
  {
   "cell_type": "code",
   "execution_count": 5,
   "metadata": {
    "scrolled": true
   },
   "outputs": [
    {
     "name": "stdout",
     "output_type": "stream",
     "text": [
      "avarua ID: 4035715 found! Appending stats\n",
      "saint george ID: 5546220 found! Appending stats\n",
      "City not found\n",
      "saldanha ID: 3361934 found! Appending stats\n",
      "port alfred ID: 964432 found! Appending stats\n",
      "City not found\n",
      "korla ID: 1529376 found! Appending stats\n",
      "puerto ayora ID: 3652764 found! Appending stats\n",
      "hilo ID: 5855927 found! Appending stats\n",
      "la primavera ID: 3678000 found! Appending stats\n",
      "nhulunbuy ID: 2064735 found! Appending stats\n",
      "misratah ID: 2214846 found! Appending stats\n",
      "soe ID: 1626703 found! Appending stats\n",
      "kurumkan ID: 2021188 found! Appending stats\n",
      "college ID: 5859699 found! Appending stats\n",
      "saint-philippe ID: 935215 found! Appending stats\n",
      "atuona ID: 4020109 found! Appending stats\n",
      "rikitea ID: 4030556 found! Appending stats\n",
      "punta arenas ID: 3874787 found! Appending stats\n",
      "busselton ID: 2075265 found! Appending stats\n",
      "east london ID: 1006984 found! Appending stats\n",
      "albany ID: 5106841 found! Appending stats\n",
      "chokurdakh ID: 2126123 found! Appending stats\n",
      "cherskiy ID: 2126199 found! Appending stats\n",
      "butaritari ID: 2110227 found! Appending stats\n",
      "ribeira grande ID: 3372707 found! Appending stats\n",
      "konosha ID: 545353 found! Appending stats\n",
      "garden city ID: 4993659 found! Appending stats\n",
      "bluff ID: 2206939 found! Appending stats\n",
      "ushuaia ID: 3833367 found! Appending stats\n",
      "kusu ID: 1849706 found! Appending stats\n",
      "moerai ID: 4034188 found! Appending stats\n",
      "tuktoyaktuk ID: 6170031 found! Appending stats\n",
      "elko ID: 5703673 found! Appending stats\n",
      "itoman ID: 1861280 found! Appending stats\n",
      "City not found\n",
      "la paz ID: 3911925 found! Appending stats\n",
      "cowra ID: 2170139 found! Appending stats\n",
      "oeiras do para ID: 3393762 found! Appending stats\n",
      "nanortalik ID: 3421765 found! Appending stats\n",
      "axim ID: 2303611 found! Appending stats\n",
      "aksu ID: 1529660 found! Appending stats\n",
      "tessalit ID: 2449893 found! Appending stats\n",
      "san marcos ID: 5392368 found! Appending stats\n",
      "jamestown ID: 5122534 found! Appending stats\n",
      "gambela ID: 337405 found! Appending stats\n",
      "gamba ID: 2400547 found! Appending stats\n",
      "kieta ID: 2094027 found! Appending stats\n",
      "natal ID: 3394023 found! Appending stats\n",
      "kahului ID: 5847411 found! Appending stats\n",
      "rio claro ID: 3451234 found! Appending stats\n",
      "cabedelo ID: 3404558 found! Appending stats\n",
      "berlevag ID: 780687 found! Appending stats\n",
      "dikson ID: 1507390 found! Appending stats\n",
      "hobart ID: 2163355 found! Appending stats\n",
      "City not found\n",
      "peniche ID: 2264923 found! Appending stats\n",
      "geraldton ID: 2070998 found! Appending stats\n",
      "shenzhen ID: 1795565 found! Appending stats\n",
      "meadow lake ID: 5478673 found! Appending stats\n",
      "ahmadpur east ID: 1184845 found! Appending stats\n",
      "City not found\n",
      "irbeyskoye ID: 1505529 found! Appending stats\n",
      "leningradskiy ID: 2123814 found! Appending stats\n",
      "kaitangata ID: 2208248 found! Appending stats\n",
      "City not found\n",
      "thaba-tseka ID: 1106835 found! Appending stats\n",
      "vaini ID: 4032243 found! Appending stats\n",
      "new norfolk ID: 2155415 found! Appending stats\n",
      "lebu ID: 3883457 found! Appending stats\n",
      "kut chap ID: 1609324 found! Appending stats\n",
      "cidreira ID: 3466165 found! Appending stats\n",
      "komsomolskiy ID: 1513491 found! Appending stats\n",
      "tuatapere ID: 2180815 found! Appending stats\n",
      "mataura ID: 6201424 found! Appending stats\n",
      "sao filipe ID: 3374210 found! Appending stats\n",
      "consett ID: 2652437 found! Appending stats\n",
      "baruun-urt ID: 2032614 found! Appending stats\n",
      "ilulissat ID: 3423146 found! Appending stats\n",
      "zhangye ID: 1785036 found! Appending stats\n",
      "port elizabeth ID: 964420 found! Appending stats\n",
      "luanda ID: 2240449 found! Appending stats\n",
      "airai ID: 1651810 found! Appending stats\n",
      "cayenne ID: 3382160 found! Appending stats\n",
      "faanui ID: 4034551 found! Appending stats\n",
      "barrow ID: 5880054 found! Appending stats\n",
      "lebanon ID: 4636045 found! Appending stats\n",
      "katherine ID: 2068655 found! Appending stats\n",
      "City not found\n",
      "parabel ID: 1495586 found! Appending stats\n",
      "severnyy ID: 496358 found! Appending stats\n",
      "kiruna ID: 605155 found! Appending stats\n",
      "ketchikan ID: 5554428 found! Appending stats\n",
      "oranjemund ID: 3354071 found! Appending stats\n",
      "meridian ID: 5600685 found! Appending stats\n",
      "mar del plata ID: 3430863 found! Appending stats\n",
      "katobu ID: 1640972 found! Appending stats\n",
      "bela ID: 1276574 found! Appending stats\n",
      "hastings ID: 2647356 found! Appending stats\n",
      "tabuk ID: 1684803 found! Appending stats\n",
      "lavrentiya ID: 4031637 found! Appending stats\n",
      "gat ID: 293842 found! Appending stats\n",
      "belaya gora ID: 2126785 found! Appending stats\n",
      "moroni ID: 921772 found! Appending stats\n",
      "faya ID: 110690 found! Appending stats\n",
      "ostersund ID: 2685750 found! Appending stats\n",
      "ixtapa ID: 4004293 found! Appending stats\n",
      "khatanga ID: 2022572 found! Appending stats\n",
      "conde ID: 3385077 found! Appending stats\n",
      "ryotsu ID: 1853371 found! Appending stats\n",
      "barao de melgaco ID: 3470871 found! Appending stats\n",
      "hofn ID: 2630299 found! Appending stats\n",
      "City not found\n",
      "chuy ID: 3443061 found! Appending stats\n",
      "denpasar ID: 1645528 found! Appending stats\n",
      "dunedin ID: 2191562 found! Appending stats\n",
      "mayo ID: 4362001 found! Appending stats\n",
      "kapaa ID: 5848280 found! Appending stats\n",
      "cassilandia ID: 3466750 found! Appending stats\n",
      "fuerte olimpo ID: 3438102 found! Appending stats\n",
      "puerto narino ID: 3671387 found! Appending stats\n",
      "tasiilaq ID: 3424607 found! Appending stats\n",
      "coihaique ID: 3894426 found! Appending stats\n",
      "maneadero ID: 3996737 found! Appending stats\n",
      "namibe ID: 3347019 found! Appending stats\n",
      "tura ID: 1254046 found! Appending stats\n",
      "barreirinha ID: 3406202 found! Appending stats\n",
      "City not found\n",
      "poum ID: 2138555 found! Appending stats\n",
      "bengkulu ID: 1649150 found! Appending stats\n",
      "la fria ID: 3795152 found! Appending stats\n",
      "coquimbo ID: 3893629 found! Appending stats\n",
      "lasa ID: 3175096 found! Appending stats\n",
      "mitsamiouli ID: 921786 found! Appending stats\n",
      "City not found\n",
      "City not found\n",
      "victoria ID: 1819729 found! Appending stats\n",
      "torbay ID: 6167817 found! Appending stats\n",
      "fayaoue ID: 2141305 found! Appending stats\n",
      "yellowknife ID: 6185377 found! Appending stats\n",
      "castro ID: 3466704 found! Appending stats\n",
      "tomatlan ID: 3981391 found! Appending stats\n",
      "margate ID: 2643044 found! Appending stats\n",
      "provideniya ID: 4031574 found! Appending stats\n",
      "grindavik ID: 3416888 found! Appending stats\n",
      "ouallam ID: 2440371 found! Appending stats\n",
      "el vigia ID: 3641099 found! Appending stats\n",
      "hermanus ID: 3366880 found! Appending stats\n",
      "City not found\n",
      "moranbah ID: 6533368 found! Appending stats\n",
      "kruisfontein ID: 986717 found! Appending stats\n",
      "kirkwood ID: 4393739 found! Appending stats\n",
      "port hedland ID: 2063042 found! Appending stats\n",
      "aykhal ID: 2027296 found! Appending stats\n",
      "lagoa ID: 3372964 found! Appending stats\n",
      "goure ID: 2444219 found! Appending stats\n",
      "broken hill ID: 2173911 found! Appending stats\n",
      "georgetown ID: 1735106 found! Appending stats\n",
      "City not found\n",
      "okhotsk ID: 2122605 found! Appending stats\n",
      "bredasdorp ID: 1015776 found! Appending stats\n",
      "tautira ID: 4033557 found! Appending stats\n",
      "najran ID: 103630 found! Appending stats\n",
      "ponta do sol ID: 2264557 found! Appending stats\n",
      "cape town ID: 3369157 found! Appending stats\n",
      "mount gambier ID: 2156643 found! Appending stats\n",
      "saint-augustin ID: 6137462 found! Appending stats\n",
      "bulaevo ID: 1525014 found! Appending stats\n",
      "presidencia roque saenz pena ID: 3840300 found! Appending stats\n",
      "sisimiut ID: 3419842 found! Appending stats\n",
      "puro ID: 1692364 found! Appending stats\n",
      "hithadhoo ID: 1282256 found! Appending stats\n",
      "khash ID: 1160571 found! Appending stats\n",
      "ostrovnoy ID: 556268 found! Appending stats\n",
      "susangerd ID: 137268 found! Appending stats\n",
      "City not found\n",
      "carnarvon ID: 2074865 found! Appending stats\n",
      "ushtobe ID: 1517637 found! Appending stats\n",
      "tammisaari ID: 660325 found! Appending stats\n",
      "City not found\n",
      "lorengau ID: 2092164 found! Appending stats\n",
      "bubaque ID: 2374583 found! Appending stats\n",
      "vao ID: 2137773 found! Appending stats\n",
      "cocobeach ID: 2401357 found! Appending stats\n",
      "pangody ID: 1495626 found! Appending stats\n",
      "crossville ID: 4616470 found! Appending stats\n",
      "san patricio ID: 4726521 found! Appending stats\n",
      "norman wells ID: 6089245 found! Appending stats\n",
      "antoniny ID: 713316 found! Appending stats\n",
      "vila velha ID: 3445026 found! Appending stats\n",
      "neryungri ID: 2019309 found! Appending stats\n",
      "pulaski ID: 4127619 found! Appending stats\n",
      "vestmannaeyjar ID: 3412093 found! Appending stats\n",
      "salta ID: 3838233 found! Appending stats\n",
      "huarmey ID: 3939168 found! Appending stats\n",
      "upernavik ID: 3418910 found! Appending stats\n"
     ]
    },
    {
     "name": "stdout",
     "output_type": "stream",
     "text": [
      "roma ID: 5134295 found! Appending stats\n",
      "dingle ID: 1714733 found! Appending stats\n",
      "rincon ID: 4218882 found! Appending stats\n",
      "pandan ID: 1695546 found! Appending stats\n",
      "City not found\n",
      "souillac ID: 933995 found! Appending stats\n",
      "khanu woralaksaburi ID: 1152953 found! Appending stats\n",
      "nikolskoye ID: 546105 found! Appending stats\n",
      "masumbwe ID: 154654 found! Appending stats\n",
      "san quintin ID: 3984997 found! Appending stats\n",
      "longyearbyen ID: 2729907 found! Appending stats\n",
      "fortuna ID: 5563839 found! Appending stats\n",
      "savannah bight ID: 3601402 found! Appending stats\n",
      "mersing ID: 1732826 found! Appending stats\n",
      "broome ID: 5110365 found! Appending stats\n",
      "takoradi ID: 2294915 found! Appending stats\n",
      "rocha ID: 3440777 found! Appending stats\n",
      "tiksi ID: 2015306 found! Appending stats\n",
      "saskylakh ID: 2017155 found! Appending stats\n",
      "City not found\n",
      "svetlyy ID: 485660 found! Appending stats\n",
      "sasaguri ID: 1852915 found! Appending stats\n",
      "morehead ID: 4301317 found! Appending stats\n",
      "dalvik ID: 2632287 found! Appending stats\n",
      "limbang ID: 1737714 found! Appending stats\n",
      "port hardy ID: 6111862 found! Appending stats\n",
      "mahebourg ID: 934322 found! Appending stats\n",
      "tuyen quang ID: 1563287 found! Appending stats\n",
      "pisco ID: 3932145 found! Appending stats\n",
      "mahibadhoo ID: 1337605 found! Appending stats\n",
      "qaanaaq ID: 3831208 found! Appending stats\n",
      "tukrah ID: 88834 found! Appending stats\n",
      "City not found\n",
      "maragogi ID: 3395458 found! Appending stats\n",
      "igarka ID: 1505991 found! Appending stats\n",
      "arraial do cabo ID: 3471451 found! Appending stats\n",
      "buin ID: 3897774 found! Appending stats\n",
      "caravelas ID: 3466980 found! Appending stats\n",
      "hobyo ID: 57000 found! Appending stats\n",
      "te anau ID: 2181625 found! Appending stats\n",
      "norsup ID: 2135517 found! Appending stats\n",
      "plattsburgh ID: 5131692 found! Appending stats\n",
      "san ramon ID: 5392593 found! Appending stats\n",
      "pemangkat ID: 1631637 found! Appending stats\n",
      "chichimila ID: 3530948 found! Appending stats\n",
      "robertson ID: 4653638 found! Appending stats\n",
      "amapa ID: 3407762 found! Appending stats\n",
      "itororo ID: 3460542 found! Appending stats\n",
      "tateyama ID: 1850523 found! Appending stats\n",
      "pontes e lacerda ID: 3453060 found! Appending stats\n",
      "vila franca do campo ID: 3372472 found! Appending stats\n",
      "City not found\n",
      "aksay ID: 583673 found! Appending stats\n",
      "moultonborough ID: 5089850 found! Appending stats\n",
      "kharitonovo ID: 550574 found! Appending stats\n",
      "City not found\n",
      "lake city ID: 4161187 found! Appending stats\n",
      "rawson ID: 3839307 found! Appending stats\n",
      "bam ID: 141736 found! Appending stats\n",
      "awjilah ID: 88533 found! Appending stats\n",
      "muros ID: 3115824 found! Appending stats\n",
      "sorland ID: 3137469 found! Appending stats\n",
      "sao joao da barra ID: 3448903 found! Appending stats\n",
      "valley city ID: 5062292 found! Appending stats\n",
      "evanston ID: 4891382 found! Appending stats\n",
      "rafaela ID: 3839479 found! Appending stats\n",
      "aklavik ID: 5882953 found! Appending stats\n",
      "la ronge ID: 6050066 found! Appending stats\n",
      "tual ID: 1623197 found! Appending stats\n",
      "north bend ID: 5742974 found! Appending stats\n",
      "flin flon ID: 5954718 found! Appending stats\n",
      "beloha ID: 1067565 found! Appending stats\n",
      "acapulco ID: 3533462 found! Appending stats\n",
      "bangangte ID: 2234865 found! Appending stats\n",
      "embonas ID: 262698 found! Appending stats\n",
      "City not found\n",
      "praia da vitoria ID: 3372760 found! Appending stats\n",
      "diamantina ID: 3464728 found! Appending stats\n",
      "clyde river ID: 5924351 found! Appending stats\n",
      "bambous virieux ID: 1106677 found! Appending stats\n",
      "ancud ID: 3899695 found! Appending stats\n",
      "harper ID: 2276492 found! Appending stats\n",
      "apache junction ID: 5551535 found! Appending stats\n",
      "yar-sale ID: 1486321 found! Appending stats\n",
      "jackson ID: 5733351 found! Appending stats\n",
      "ginda ID: 1253628 found! Appending stats\n",
      "tha chang ID: 1150338 found! Appending stats\n",
      "zambezi ID: 895953 found! Appending stats\n",
      "City not found\n",
      "pyshchug ID: 503401 found! Appending stats\n",
      "nouadhibou ID: 2377457 found! Appending stats\n",
      "City not found\n",
      "City not found\n",
      "luderitz ID: 3355672 found! Appending stats\n",
      "City not found\n",
      "City not found\n",
      "natchitoches ID: 4334734 found! Appending stats\n",
      "codrington ID: 2171099 found! Appending stats\n",
      "lujiang ID: 1802068 found! Appending stats\n",
      "biloela ID: 2175819 found! Appending stats\n",
      "vardo ID: 777019 found! Appending stats\n",
      "la rioja ID: 3336897 found! Appending stats\n",
      "adrar ID: 2381972 found! Appending stats\n",
      "calabozo ID: 3647444 found! Appending stats\n",
      "muroto ID: 1856392 found! Appending stats\n",
      "esperance ID: 2071860 found! Appending stats\n",
      "pokhara ID: 1282898 found! Appending stats\n",
      "eureka ID: 5563397 found! Appending stats\n",
      "chifeng ID: 2038067 found! Appending stats\n",
      "touros ID: 3386213 found! Appending stats\n",
      "City not found\n",
      "owosso ID: 5004792 found! Appending stats\n",
      "hay river ID: 5972762 found! Appending stats\n",
      "kodiak ID: 5866583 found! Appending stats\n",
      "sarangani ID: 1687186 found! Appending stats\n",
      "gogrial ID: 374739 found! Appending stats\n",
      "salaga ID: 2295684 found! Appending stats\n",
      "nara ID: 1855612 found! Appending stats\n",
      "havoysund ID: 779622 found! Appending stats\n",
      "lakes entrance ID: 2160735 found! Appending stats\n",
      "ayna ID: 3946962 found! Appending stats\n",
      "khalkhal ID: 128008 found! Appending stats\n",
      "petropavlovsk-kamchatskiy ID: 2122104 found! Appending stats\n",
      "katsuura ID: 2112309 found! Appending stats\n",
      "tigil ID: 2120612 found! Appending stats\n",
      "City not found\n",
      "sile ID: 739636 found! Appending stats\n",
      "salalah ID: 286621 found! Appending stats\n",
      "stromness ID: 2636638 found! Appending stats\n",
      "kisujszallas ID: 718744 found! Appending stats\n",
      "half moon bay ID: 5354943 found! Appending stats\n",
      "saint peter ID: 3373554 found! Appending stats\n",
      "oksfjord ID: 778362 found! Appending stats\n",
      "grand gaube ID: 934479 found! Appending stats\n",
      "grong ID: 3154907 found! Appending stats\n",
      "storforshei ID: 3145614 found! Appending stats\n",
      "iqaluit ID: 5983720 found! Appending stats\n",
      "neuquen ID: 3843123 found! Appending stats\n",
      "caxito ID: 2242001 found! Appending stats\n",
      "oussouye ID: 2246901 found! Appending stats\n",
      "muisne ID: 3653967 found! Appending stats\n",
      "bull savanna ID: 3491161 found! Appending stats\n",
      "fairbanks ID: 5861897 found! Appending stats\n",
      "novopokrovka ID: 699328 found! Appending stats\n",
      "kiama ID: 2161515 found! Appending stats\n",
      "vanavara ID: 2013727 found! Appending stats\n",
      "saquisili ID: 3651251 found! Appending stats\n",
      "alice springs ID: 2077895 found! Appending stats\n",
      "bayir ID: 304183 found! Appending stats\n",
      "kaeo ID: 2189343 found! Appending stats\n",
      "thinadhoo ID: 1337610 found! Appending stats\n",
      "bethel ID: 5282297 found! Appending stats\n",
      "pandamatenga ID: 933178 found! Appending stats\n",
      "tyumentsevo ID: 1488741 found! Appending stats\n",
      "kupang ID: 2057087 found! Appending stats\n",
      "bandarbeyla ID: 64814 found! Appending stats\n",
      "berbera ID: 64435 found! Appending stats\n",
      "santiago del estero ID: 3835869 found! Appending stats\n",
      "City not found\n",
      "changji ID: 1529569 found! Appending stats\n",
      "City not found\n",
      "beringovskiy ID: 2126710 found! Appending stats\n",
      "jumla ID: 1283285 found! Appending stats\n",
      "florianopolis ID: 6323121 found! Appending stats\n",
      "gizo ID: 2108857 found! Appending stats\n",
      "tezu ID: 1254709 found! Appending stats\n",
      "City not found\n",
      "ucluelet ID: 6171633 found! Appending stats\n",
      "City not found\n",
      "sao domingos ID: 3449293 found! Appending stats\n",
      "nador ID: 2541479 found! Appending stats\n",
      "umm lajj ID: 100926 found! Appending stats\n",
      "rabo de peixe ID: 3372745 found! Appending stats\n",
      "City not found\n",
      "City not found\n",
      "narsaq ID: 3421719 found! Appending stats\n",
      "camargo ID: 4013724 found! Appending stats\n",
      "chinchani ID: 1274175 found! Appending stats\n",
      "cozumel ID: 3530103 found! Appending stats\n",
      "providencia ID: 3991622 found! Appending stats\n",
      "saint-pierre ID: 935214 found! Appending stats\n",
      "green river ID: 5826559 found! Appending stats\n",
      "chebsara ID: 569681 found! Appending stats\n",
      "hakkari ID: 312888 found! Appending stats\n",
      "hasaki ID: 2112802 found! Appending stats\n",
      "den helder ID: 2757220 found! Appending stats\n",
      "westport ID: 4845585 found! Appending stats\n",
      "kloulklubed ID: 7671223 found! Appending stats\n",
      "phek ID: 1259784 found! Appending stats\n",
      "City not found\n",
      "ribas do rio pardo ID: 3451399 found! Appending stats\n",
      "blackwater ID: 2175403 found! Appending stats\n",
      "kindu ID: 212902 found! Appending stats\n",
      "altoona ID: 5178195 found! Appending stats\n",
      "City not found\n",
      "bosaso ID: 64013 found! Appending stats\n",
      "xingyi ID: 1787599 found! Appending stats\n",
      "sidney ID: 2147714 found! Appending stats\n",
      "deputatskiy ID: 2028164 found! Appending stats\n"
     ]
    },
    {
     "name": "stdout",
     "output_type": "stream",
     "text": [
      "kaka ID: 161901 found! Appending stats\n",
      "pochutla ID: 3517970 found! Appending stats\n",
      "freeport ID: 5117949 found! Appending stats\n",
      "filadelfia ID: 4560349 found! Appending stats\n",
      "ludvika ID: 2693759 found! Appending stats\n",
      "pitimbu ID: 3391889 found! Appending stats\n",
      "brownsville ID: 4676740 found! Appending stats\n",
      "chapais ID: 5919850 found! Appending stats\n",
      "gaozhou ID: 1810295 found! Appending stats\n",
      "kropotkin ID: 540761 found! Appending stats\n",
      "pevek ID: 2122090 found! Appending stats\n",
      "lahaina ID: 5849996 found! Appending stats\n",
      "City not found\n",
      "los llanos de aridane ID: 2514651 found! Appending stats\n",
      "craig ID: 5576064 found! Appending stats\n",
      "abu dhabi ID: 292968 found! Appending stats\n",
      "City not found\n",
      "morgan city ID: 4333811 found! Appending stats\n",
      "kavieng ID: 2094342 found! Appending stats\n",
      "ovalle ID: 3877918 found! Appending stats\n",
      "beyneu ID: 610298 found! Appending stats\n",
      "thabazimbi ID: 949683 found! Appending stats\n",
      "naze ID: 1855540 found! Appending stats\n",
      "City not found\n",
      "ukiah ID: 5404476 found! Appending stats\n",
      "noumea ID: 2139521 found! Appending stats\n",
      "kasangulu ID: 2315057 found! Appending stats\n",
      "buchanan ID: 2278158 found! Appending stats\n",
      "bowen ID: 2174444 found! Appending stats\n",
      "matay ID: 352628 found! Appending stats\n",
      "pinheiro machado ID: 3453741 found! Appending stats\n",
      "vestmanna ID: 2610343 found! Appending stats\n",
      "seredeyskiy ID: 496869 found! Appending stats\n",
      "puerto quijarro ID: 3444201 found! Appending stats\n",
      "arona ID: 2521582 found! Appending stats\n",
      "skarzysko-kamienna ID: 759141 found! Appending stats\n",
      "waipawa ID: 2206874 found! Appending stats\n",
      "bandipur ID: 1283680 found! Appending stats\n",
      "entebbe ID: 233508 found! Appending stats\n",
      "darhan ID: 2031964 found! Appending stats\n",
      "City not found\n",
      "kamina ID: 214614 found! Appending stats\n",
      "City not found\n",
      "guerrero negro ID: 4021858 found! Appending stats\n",
      "shakawe ID: 933077 found! Appending stats\n",
      "mao ID: 2514301 found! Appending stats\n",
      "ambalema ID: 3689979 found! Appending stats\n",
      "pangnirtung ID: 6096551 found! Appending stats\n",
      "korablino ID: 545001 found! Appending stats\n",
      "sovetskiy ID: 1491230 found! Appending stats\n",
      "kavaratti ID: 1267390 found! Appending stats\n",
      "sao felix do xingu ID: 3388847 found! Appending stats\n",
      "cabo san lucas ID: 3985710 found! Appending stats\n",
      "havre-saint-pierre ID: 5972291 found! Appending stats\n",
      "alofi ID: 4036284 found! Appending stats\n",
      "cairns ID: 2172797 found! Appending stats\n",
      "saint andrews ID: 4593724 found! Appending stats\n",
      "bathsheba ID: 3374083 found! Appending stats\n",
      "kirakira ID: 2178753 found! Appending stats\n",
      "port hawkesbury ID: 6111867 found! Appending stats\n",
      "ternate ID: 1624041 found! Appending stats\n",
      "pitsunda ID: 615460 found! Appending stats\n",
      "kefamenanu ID: 1640576 found! Appending stats\n",
      "klaksvik ID: 2618795 found! Appending stats\n",
      "kapoeta ID: 372884 found! Appending stats\n",
      "City not found\n",
      "rivne ID: 695594 found! Appending stats\n",
      "rimbey ID: 6122374 found! Appending stats\n",
      "mutengene ID: 2225728 found! Appending stats\n",
      "port keats ID: 2063039 found! Appending stats\n",
      "asau ID: 686090 found! Appending stats\n",
      "ulsteinvik ID: 3133349 found! Appending stats\n",
      "City not found\n",
      "City not found\n",
      "bambui ID: 3471005 found! Appending stats\n",
      "paka ID: 1734313 found! Appending stats\n",
      "paradise valley ID: 5308049 found! Appending stats\n",
      "manitouwadge ID: 6065253 found! Appending stats\n",
      "saint-joseph ID: 6690296 found! Appending stats\n",
      "City not found\n",
      "aktas ID: 1526619 found! Appending stats\n",
      "flinders ID: 6255012 found! Appending stats\n",
      "saurimo ID: 145531 found! Appending stats\n",
      "port lincoln ID: 2063036 found! Appending stats\n",
      "sistranda ID: 3139597 found! Appending stats\n",
      "springbok ID: 3361142 found! Appending stats\n",
      "mogadishu ID: 53654 found! Appending stats\n",
      "carbondale ID: 4235193 found! Appending stats\n",
      "ariquemes ID: 3665199 found! Appending stats\n",
      "disna ID: 629055 found! Appending stats\n",
      "shingu ID: 1847947 found! Appending stats\n",
      "banjar ID: 1650232 found! Appending stats\n",
      "baykit ID: 1510689 found! Appending stats\n",
      "pokrovsk ID: 704422 found! Appending stats\n",
      "prince george ID: 6113365 found! Appending stats\n",
      "pringsewu ID: 1630639 found! Appending stats\n",
      "thompson ID: 6165406 found! Appending stats\n",
      "tailai ID: 2034599 found! Appending stats\n",
      "san luis ID: 3837056 found! Appending stats\n",
      "port-gentil ID: 2396518 found! Appending stats\n",
      "ornskoldsvik ID: 2686469 found! Appending stats\n",
      "batemans bay ID: 2176639 found! Appending stats\n",
      "taoudenni ID: 2450173 found! Appending stats\n",
      "porto santo ID: 8010683 found! Appending stats\n",
      "yulara ID: 6355222 found! Appending stats\n",
      "la asuncion ID: 3480908 found! Appending stats\n",
      "severo-kurilsk ID: 2121385 found! Appending stats\n",
      "riyadh ID: 108410 found! Appending stats\n",
      "City not found\n",
      "pirovskoye ID: 1494941 found! Appending stats\n",
      "roald ID: 3141667 found! Appending stats\n",
      "sal rei ID: 3374235 found! Appending stats\n",
      "newtownards ID: 2641519 found! Appending stats\n",
      "charyshskoye ID: 1508427 found! Appending stats\n",
      "manjacaze ID: 1040938 found! Appending stats\n",
      "puerto carreno ID: 3671519 found! Appending stats\n",
      "high prairie ID: 5975034 found! Appending stats\n",
      "nelson bay ID: 2155562 found! Appending stats\n",
      "tinnanur ID: 1254436 found! Appending stats\n",
      "fukue ID: 1863997 found! Appending stats\n",
      "beira ID: 1052373 found! Appending stats\n",
      "sabzevar ID: 118063 found! Appending stats\n",
      "teguise ID: 2510573 found! Appending stats\n",
      "naryan-mar ID: 523392 found! Appending stats\n",
      "City not found\n",
      "xiaoweizhai ID: 1789945 found! Appending stats\n",
      "monrovia ID: 2274895 found! Appending stats\n",
      "tari ID: 2322495 found! Appending stats\n",
      "haines junction ID: 5969025 found! Appending stats\n",
      "zapolyarnyy ID: 464790 found! Appending stats\n",
      "City not found\n",
      "paraiso ID: 3622547 found! Appending stats\n",
      "goderich ID: 5962442 found! Appending stats\n",
      "volosovo ID: 472357 found! Appending stats\n",
      "salisbury ID: 2638664 found! Appending stats\n",
      "henties bay ID: 3356832 found! Appending stats\n",
      "jalu ID: 86049 found! Appending stats\n",
      "marzuq ID: 72181 found! Appending stats\n",
      "linhares ID: 3458498 found! Appending stats\n",
      "eastlake ID: 5152833 found! Appending stats\n",
      "azuaga ID: 2521436 found! Appending stats\n",
      "dakar ID: 2253354 found! Appending stats\n",
      "arlit ID: 2447513 found! Appending stats\n",
      "ewa beach ID: 5855051 found! Appending stats\n",
      "bilibino ID: 2126682 found! Appending stats\n",
      "miri ID: 1738050 found! Appending stats\n",
      "nijar ID: 2513222 found! Appending stats\n",
      "old bridge ID: 5102162 found! Appending stats\n",
      "dongsheng ID: 1812256 found! Appending stats\n",
      "City not found\n",
      "pontal do parana ID: 6322927 found! Appending stats\n",
      "khammam ID: 1267076 found! Appending stats\n",
      "sabang ID: 1214026 found! Appending stats\n",
      "palimbang ID: 1696105 found! Appending stats\n",
      "ogaminana ID: 2327827 found! Appending stats\n",
      "warangal ID: 1252948 found! Appending stats\n",
      "bacolod ID: 1729564 found! Appending stats\n",
      "cao bang ID: 1586185 found! Appending stats\n",
      "sitka ID: 5557293 found! Appending stats\n",
      "zhigansk ID: 2012530 found! Appending stats\n",
      "snejbjerg ID: 2613322 found! Appending stats\n",
      "scarborough ID: 2638419 found! Appending stats\n",
      "kungurtug ID: 1501377 found! Appending stats\n",
      "lompoc ID: 5367788 found! Appending stats\n",
      "champerico ID: 3598787 found! Appending stats\n",
      "ulladulla ID: 2145554 found! Appending stats\n",
      "khrebtovaya ID: 2022232 found! Appending stats\n",
      "husavik ID: 2629833 found! Appending stats\n",
      "oyek ID: 2018207 found! Appending stats\n",
      "shirokiy ID: 2016680 found! Appending stats\n",
      "tirumullaivasal ID: 1254367 found! Appending stats\n",
      "bhitarwar ID: 1275905 found! Appending stats\n",
      "erechim ID: 3464073 found! Appending stats\n",
      "City not found\n",
      "City not found\n",
      "primorsk ID: 696292 found! Appending stats\n",
      "aloleng ID: 1731298 found! Appending stats\n",
      "namatanai ID: 2090021 found! Appending stats\n",
      "taloqan ID: 1123004 found! Appending stats\n",
      "City not found\n",
      "mehamn ID: 778707 found! Appending stats\n",
      "pascagoula ID: 4440397 found! Appending stats\n",
      "City not found\n",
      "tevriz ID: 1489661 found! Appending stats\n",
      "gwadar ID: 1177446 found! Appending stats\n",
      "shar ID: 1519275 found! Appending stats\n",
      "waddan ID: 2209055 found! Appending stats\n",
      "pyu ID: 1298911 found! Appending stats\n",
      "cochabamba ID: 3919968 found! Appending stats\n",
      "ewing ID: 5097751 found! Appending stats\n",
      "evans ID: 4193699 found! Appending stats\n",
      "sulphur springs ID: 4734909 found! Appending stats\n",
      "santa rosa ID: 1687894 found! Appending stats\n",
      "buraydah ID: 107304 found! Appending stats\n",
      "labuhan ID: 8079926 found! Appending stats\n",
      "bure ID: 341397 found! Appending stats\n",
      "tarko-sale ID: 1490085 found! Appending stats\n"
     ]
    },
    {
     "name": "stdout",
     "output_type": "stream",
     "text": [
      "kulhudhuffushi ID: 1337613 found! Appending stats\n",
      "gevrai ID: 1271413 found! Appending stats\n",
      "City not found\n",
      "hambantota ID: 1244926 found! Appending stats\n",
      "doha ID: 290030 found! Appending stats\n",
      "atbasar ID: 1526038 found! Appending stats\n",
      "palu ID: 1633034 found! Appending stats\n",
      "santa barbara ID: 5392967 found! Appending stats\n",
      "verkhneye dubrovo ID: 1487520 found! Appending stats\n",
      "mizan teferi ID: 330534 found! Appending stats\n",
      "dzhebariki-khaya ID: 2024626 found! Appending stats\n",
      "saint anthony ID: 5044290 found! Appending stats\n",
      "mildura ID: 2157698 found! Appending stats\n",
      "biggar ID: 2655692 found! Appending stats\n",
      "umm kaddadah ID: 364933 found! Appending stats\n",
      "ovsyanka ID: 1495797 found! Appending stats\n",
      "City not found\n",
      "hamilton ID: 4513583 found! Appending stats\n",
      "koson ID: 1217007 found! Appending stats\n",
      "dno ID: 565885 found! Appending stats\n",
      "am timan ID: 245338 found! Appending stats\n",
      "barentu ID: 342711 found! Appending stats\n",
      "City not found\n",
      "gazojak ID: 1514792 found! Appending stats\n",
      "chiredzi ID: 893485 found! Appending stats\n",
      "camana ID: 3945985 found! Appending stats\n",
      "lazaro cardenas ID: 4026082 found! Appending stats\n",
      "hervey bay ID: 2146219 found! Appending stats\n",
      "omsukchan ID: 2122493 found! Appending stats\n",
      "outjo ID: 3353715 found! Appending stats\n",
      "bud ID: 4255151 found! Appending stats\n"
     ]
    }
   ],
   "source": [
    "url = \"http://api.openweathermap.org/data/2.5/weather?\"\n",
    "units = \"metric\"\n",
    "temp_max=[]    \n",
    "humidity=[]       \n",
    "wind=[]\n",
    "cloudiness=[]\n",
    "new_city=[]\n",
    "latitude=[]\n",
    "longitude=[]\n",
    "country=[]\n",
    "date=[]\n",
    "\n",
    "city_counter=0\n",
    "\n",
    "for city in cities:\n",
    "    # Build partial query URL\n",
    "    \n",
    "    query_url = f\"{url}appid={weather_api_key}&units={units}&q=\"\n",
    "    response = requests.get(query_url + city).json()\n",
    "    try:\n",
    "        temp_max.append(response['main']['temp_max'])\n",
    "        humidity.append(response['main']['humidity'])\n",
    "        wind.append(response['wind']['speed'])\n",
    "        cloudiness.append(response['clouds']['all'])\n",
    "        new_city.append(response['name'])\n",
    "        country.append(response['sys']['country'])\n",
    "        date.append(response['dt'])\n",
    "        latitude.append(response['coord']['lat'])\n",
    "        longitude.append(response['coord']['lon'])\n",
    "        print(f\"{city} ID: {response['id']} found! Appending stats\")\n",
    "\n",
    "        # Handle exceptions for a city that is not available in the Openweather API\n",
    "    except:\n",
    "        # Append null values\n",
    "        print(\"City not found\")\n",
    "        pass\n"
   ]
  },
  {
   "cell_type": "markdown",
   "metadata": {},
   "source": [
    "### Convert Raw Data to DataFrame\n",
    "* Export the city data into a .csv.\n",
    "* Display the DataFrame"
   ]
  },
  {
   "cell_type": "code",
   "execution_count": 6,
   "metadata": {},
   "outputs": [
    {
     "data": {
      "text/plain": [
       "{'coord': {'lon': -86.1758, 'lat': 39.447},\n",
       " 'weather': [{'id': 802,\n",
       "   'main': 'Clouds',\n",
       "   'description': 'scattered clouds',\n",
       "   'icon': '03d'}],\n",
       " 'base': 'stations',\n",
       " 'main': {'temp': 18.05,\n",
       "  'feels_like': 17.14,\n",
       "  'temp_min': 15.99,\n",
       "  'temp_max': 19.01,\n",
       "  'pressure': 1017,\n",
       "  'humidity': 47,\n",
       "  'sea_level': 1017,\n",
       "  'grnd_level': 988},\n",
       " 'visibility': 10000,\n",
       " 'wind': {'speed': 7.59, 'deg': 226, 'gust': 14.76},\n",
       " 'clouds': {'all': 39},\n",
       " 'dt': 1650040148,\n",
       " 'sys': {'type': 1,\n",
       "  'id': 4345,\n",
       "  'country': 'US',\n",
       "  'sunrise': 1650020837,\n",
       "  'sunset': 1650068502},\n",
       " 'timezone': -14400,\n",
       " 'id': 4255151,\n",
       " 'name': 'Bud',\n",
       " 'cod': 200}"
      ]
     },
     "execution_count": 6,
     "metadata": {},
     "output_type": "execute_result"
    }
   ],
   "source": [
    "response"
   ]
  },
  {
   "cell_type": "code",
   "execution_count": 7,
   "metadata": {},
   "outputs": [
    {
     "name": "stdout",
     "output_type": "stream",
     "text": [
      "The city count is 567\n",
      "The latitude count is 567\n",
      "The longitude count is 567\n",
      "The max temp count is 567\n",
      "The humidity count is 567\n",
      "The wind count is 567\n",
      "The country count is 567\n",
      "The date count is 567\n"
     ]
    }
   ],
   "source": [
    "\n",
    "print(f'The city count is {len(new_city)}')\n",
    "print(f'The latitude count is {len(latitude)}')\n",
    "print(f'The longitude count is {len(longitude)}')\n",
    "print(f'The max temp count is {len(temp_max)}')\n",
    "print(f'The humidity count is {len(humidity)}')\n",
    "print(f'The wind count is {len(wind)}')\n",
    "print(f'The country count is {len(country)}')\n",
    "print(f'The date count is {len(date)}')\n"
   ]
  },
  {
   "cell_type": "code",
   "execution_count": 8,
   "metadata": {},
   "outputs": [
    {
     "data": {
      "text/html": [
       "<div>\n",
       "<style scoped>\n",
       "    .dataframe tbody tr th:only-of-type {\n",
       "        vertical-align: middle;\n",
       "    }\n",
       "\n",
       "    .dataframe tbody tr th {\n",
       "        vertical-align: top;\n",
       "    }\n",
       "\n",
       "    .dataframe thead th {\n",
       "        text-align: right;\n",
       "    }\n",
       "</style>\n",
       "<table border=\"1\" class=\"dataframe\">\n",
       "  <thead>\n",
       "    <tr style=\"text-align: right;\">\n",
       "      <th></th>\n",
       "      <th>City</th>\n",
       "      <th>Lat</th>\n",
       "      <th>Lng</th>\n",
       "      <th>Max Temp</th>\n",
       "      <th>Humidity</th>\n",
       "      <th>Cloudiness</th>\n",
       "      <th>Wind Speed</th>\n",
       "      <th>Country</th>\n",
       "      <th>Date</th>\n",
       "    </tr>\n",
       "  </thead>\n",
       "  <tbody>\n",
       "    <tr>\n",
       "      <th>0</th>\n",
       "      <td>Avarua</td>\n",
       "      <td>-21.2078</td>\n",
       "      <td>-159.7750</td>\n",
       "      <td>23.03</td>\n",
       "      <td>100</td>\n",
       "      <td>6</td>\n",
       "      <td>1.03</td>\n",
       "      <td>CK</td>\n",
       "      <td>1650039761</td>\n",
       "    </tr>\n",
       "    <tr>\n",
       "      <th>1</th>\n",
       "      <td>Saint George</td>\n",
       "      <td>37.1041</td>\n",
       "      <td>-113.5841</td>\n",
       "      <td>17.46</td>\n",
       "      <td>19</td>\n",
       "      <td>0</td>\n",
       "      <td>1.54</td>\n",
       "      <td>US</td>\n",
       "      <td>1650039745</td>\n",
       "    </tr>\n",
       "    <tr>\n",
       "      <th>2</th>\n",
       "      <td>Saldanha</td>\n",
       "      <td>-33.0117</td>\n",
       "      <td>17.9442</td>\n",
       "      <td>20.03</td>\n",
       "      <td>55</td>\n",
       "      <td>0</td>\n",
       "      <td>10.76</td>\n",
       "      <td>ZA</td>\n",
       "      <td>1650039648</td>\n",
       "    </tr>\n",
       "    <tr>\n",
       "      <th>3</th>\n",
       "      <td>Port Alfred</td>\n",
       "      <td>-33.5906</td>\n",
       "      <td>26.8910</td>\n",
       "      <td>16.21</td>\n",
       "      <td>81</td>\n",
       "      <td>99</td>\n",
       "      <td>1.34</td>\n",
       "      <td>ZA</td>\n",
       "      <td>1650039750</td>\n",
       "    </tr>\n",
       "    <tr>\n",
       "      <th>4</th>\n",
       "      <td>Korla</td>\n",
       "      <td>41.7597</td>\n",
       "      <td>86.1469</td>\n",
       "      <td>15.11</td>\n",
       "      <td>13</td>\n",
       "      <td>0</td>\n",
       "      <td>4.12</td>\n",
       "      <td>CN</td>\n",
       "      <td>1650039939</td>\n",
       "    </tr>\n",
       "    <tr>\n",
       "      <th>5</th>\n",
       "      <td>Puerto Ayora</td>\n",
       "      <td>-0.7393</td>\n",
       "      <td>-90.3518</td>\n",
       "      <td>26.98</td>\n",
       "      <td>80</td>\n",
       "      <td>60</td>\n",
       "      <td>5.29</td>\n",
       "      <td>EC</td>\n",
       "      <td>1650039784</td>\n",
       "    </tr>\n",
       "    <tr>\n",
       "      <th>6</th>\n",
       "      <td>Hilo</td>\n",
       "      <td>19.7297</td>\n",
       "      <td>-155.0900</td>\n",
       "      <td>23.49</td>\n",
       "      <td>88</td>\n",
       "      <td>75</td>\n",
       "      <td>3.09</td>\n",
       "      <td>US</td>\n",
       "      <td>1650039764</td>\n",
       "    </tr>\n",
       "    <tr>\n",
       "      <th>7</th>\n",
       "      <td>La Primavera</td>\n",
       "      <td>5.4906</td>\n",
       "      <td>-70.4092</td>\n",
       "      <td>31.74</td>\n",
       "      <td>49</td>\n",
       "      <td>98</td>\n",
       "      <td>1.06</td>\n",
       "      <td>CO</td>\n",
       "      <td>1650039940</td>\n",
       "    </tr>\n",
       "    <tr>\n",
       "      <th>8</th>\n",
       "      <td>Nhulunbuy</td>\n",
       "      <td>-12.2333</td>\n",
       "      <td>136.7667</td>\n",
       "      <td>26.34</td>\n",
       "      <td>89</td>\n",
       "      <td>75</td>\n",
       "      <td>6.69</td>\n",
       "      <td>AU</td>\n",
       "      <td>1650039941</td>\n",
       "    </tr>\n",
       "    <tr>\n",
       "      <th>9</th>\n",
       "      <td>Misratah</td>\n",
       "      <td>32.3754</td>\n",
       "      <td>15.0925</td>\n",
       "      <td>20.50</td>\n",
       "      <td>62</td>\n",
       "      <td>0</td>\n",
       "      <td>5.66</td>\n",
       "      <td>LY</td>\n",
       "      <td>1650039700</td>\n",
       "    </tr>\n",
       "    <tr>\n",
       "      <th>10</th>\n",
       "      <td>Soe</td>\n",
       "      <td>-9.8607</td>\n",
       "      <td>124.2840</td>\n",
       "      <td>20.31</td>\n",
       "      <td>86</td>\n",
       "      <td>99</td>\n",
       "      <td>1.75</td>\n",
       "      <td>ID</td>\n",
       "      <td>1650039941</td>\n",
       "    </tr>\n",
       "    <tr>\n",
       "      <th>11</th>\n",
       "      <td>Kurumkan</td>\n",
       "      <td>54.3000</td>\n",
       "      <td>110.3000</td>\n",
       "      <td>1.30</td>\n",
       "      <td>79</td>\n",
       "      <td>100</td>\n",
       "      <td>2.47</td>\n",
       "      <td>RU</td>\n",
       "      <td>1650039942</td>\n",
       "    </tr>\n",
       "    <tr>\n",
       "      <th>12</th>\n",
       "      <td>College</td>\n",
       "      <td>64.8569</td>\n",
       "      <td>-147.8028</td>\n",
       "      <td>-3.82</td>\n",
       "      <td>43</td>\n",
       "      <td>20</td>\n",
       "      <td>5.14</td>\n",
       "      <td>US</td>\n",
       "      <td>1650039809</td>\n",
       "    </tr>\n",
       "    <tr>\n",
       "      <th>13</th>\n",
       "      <td>Saint-Philippe</td>\n",
       "      <td>-21.3585</td>\n",
       "      <td>55.7679</td>\n",
       "      <td>25.77</td>\n",
       "      <td>83</td>\n",
       "      <td>54</td>\n",
       "      <td>6.84</td>\n",
       "      <td>RE</td>\n",
       "      <td>1650039803</td>\n",
       "    </tr>\n",
       "    <tr>\n",
       "      <th>14</th>\n",
       "      <td>Atuona</td>\n",
       "      <td>-9.8000</td>\n",
       "      <td>-139.0333</td>\n",
       "      <td>25.81</td>\n",
       "      <td>78</td>\n",
       "      <td>29</td>\n",
       "      <td>6.72</td>\n",
       "      <td>PF</td>\n",
       "      <td>1650039658</td>\n",
       "    </tr>\n",
       "    <tr>\n",
       "      <th>15</th>\n",
       "      <td>Rikitea</td>\n",
       "      <td>-23.1203</td>\n",
       "      <td>-134.9692</td>\n",
       "      <td>25.25</td>\n",
       "      <td>70</td>\n",
       "      <td>0</td>\n",
       "      <td>6.76</td>\n",
       "      <td>PF</td>\n",
       "      <td>1650039760</td>\n",
       "    </tr>\n",
       "    <tr>\n",
       "      <th>16</th>\n",
       "      <td>Punta Arenas</td>\n",
       "      <td>-53.1500</td>\n",
       "      <td>-70.9167</td>\n",
       "      <td>11.06</td>\n",
       "      <td>87</td>\n",
       "      <td>75</td>\n",
       "      <td>3.09</td>\n",
       "      <td>CL</td>\n",
       "      <td>1650039635</td>\n",
       "    </tr>\n",
       "    <tr>\n",
       "      <th>17</th>\n",
       "      <td>Busselton</td>\n",
       "      <td>-33.6500</td>\n",
       "      <td>115.3333</td>\n",
       "      <td>14.72</td>\n",
       "      <td>91</td>\n",
       "      <td>3</td>\n",
       "      <td>3.37</td>\n",
       "      <td>AU</td>\n",
       "      <td>1650039728</td>\n",
       "    </tr>\n",
       "    <tr>\n",
       "      <th>18</th>\n",
       "      <td>East London</td>\n",
       "      <td>-33.0153</td>\n",
       "      <td>27.9116</td>\n",
       "      <td>15.52</td>\n",
       "      <td>94</td>\n",
       "      <td>75</td>\n",
       "      <td>6.69</td>\n",
       "      <td>ZA</td>\n",
       "      <td>1650039766</td>\n",
       "    </tr>\n",
       "    <tr>\n",
       "      <th>19</th>\n",
       "      <td>Albany</td>\n",
       "      <td>42.6001</td>\n",
       "      <td>-73.9662</td>\n",
       "      <td>17.38</td>\n",
       "      <td>22</td>\n",
       "      <td>1</td>\n",
       "      <td>0.45</td>\n",
       "      <td>US</td>\n",
       "      <td>1650039458</td>\n",
       "    </tr>\n",
       "  </tbody>\n",
       "</table>\n",
       "</div>"
      ],
      "text/plain": [
       "              City      Lat       Lng  Max Temp  Humidity  Cloudiness  \\\n",
       "0           Avarua -21.2078 -159.7750     23.03       100           6   \n",
       "1     Saint George  37.1041 -113.5841     17.46        19           0   \n",
       "2         Saldanha -33.0117   17.9442     20.03        55           0   \n",
       "3      Port Alfred -33.5906   26.8910     16.21        81          99   \n",
       "4            Korla  41.7597   86.1469     15.11        13           0   \n",
       "5     Puerto Ayora  -0.7393  -90.3518     26.98        80          60   \n",
       "6             Hilo  19.7297 -155.0900     23.49        88          75   \n",
       "7     La Primavera   5.4906  -70.4092     31.74        49          98   \n",
       "8        Nhulunbuy -12.2333  136.7667     26.34        89          75   \n",
       "9         Misratah  32.3754   15.0925     20.50        62           0   \n",
       "10             Soe  -9.8607  124.2840     20.31        86          99   \n",
       "11        Kurumkan  54.3000  110.3000      1.30        79         100   \n",
       "12         College  64.8569 -147.8028     -3.82        43          20   \n",
       "13  Saint-Philippe -21.3585   55.7679     25.77        83          54   \n",
       "14          Atuona  -9.8000 -139.0333     25.81        78          29   \n",
       "15         Rikitea -23.1203 -134.9692     25.25        70           0   \n",
       "16    Punta Arenas -53.1500  -70.9167     11.06        87          75   \n",
       "17       Busselton -33.6500  115.3333     14.72        91           3   \n",
       "18     East London -33.0153   27.9116     15.52        94          75   \n",
       "19          Albany  42.6001  -73.9662     17.38        22           1   \n",
       "\n",
       "    Wind Speed Country        Date  \n",
       "0         1.03      CK  1650039761  \n",
       "1         1.54      US  1650039745  \n",
       "2        10.76      ZA  1650039648  \n",
       "3         1.34      ZA  1650039750  \n",
       "4         4.12      CN  1650039939  \n",
       "5         5.29      EC  1650039784  \n",
       "6         3.09      US  1650039764  \n",
       "7         1.06      CO  1650039940  \n",
       "8         6.69      AU  1650039941  \n",
       "9         5.66      LY  1650039700  \n",
       "10        1.75      ID  1650039941  \n",
       "11        2.47      RU  1650039942  \n",
       "12        5.14      US  1650039809  \n",
       "13        6.84      RE  1650039803  \n",
       "14        6.72      PF  1650039658  \n",
       "15        6.76      PF  1650039760  \n",
       "16        3.09      CL  1650039635  \n",
       "17        3.37      AU  1650039728  \n",
       "18        6.69      ZA  1650039766  \n",
       "19        0.45      US  1650039458  "
      ]
     },
     "execution_count": 8,
     "metadata": {},
     "output_type": "execute_result"
    }
   ],
   "source": [
    "#Create new dataframe from the series pulled\n",
    "weather_df=pd.DataFrame(list(zip(new_city,latitude,longitude,temp_max,humidity,cloudiness,wind,country,date)),columns=['City','Lat','Lng','Max Temp','Humidity','Cloudiness','Wind Speed','Country','Date'])\n",
    "#export the city data into a csv\n",
    "weather_df.to_csv(\"../Output/weather.csv\", index=False, header=True)\n",
    "weather_df.head(20)"
   ]
  },
  {
   "cell_type": "markdown",
   "metadata": {},
   "source": [
    "## Inspect the data and remove the cities where the humidity > 100%.\n",
    "----\n",
    "Skip this step if there are no cities that have humidity > 100%. "
   ]
  },
  {
   "cell_type": "code",
   "execution_count": 9,
   "metadata": {},
   "outputs": [
    {
     "data": {
      "text/plain": [
       "City          567\n",
       "Lat           567\n",
       "Lng           567\n",
       "Max Temp      567\n",
       "Humidity      567\n",
       "Cloudiness    567\n",
       "Wind Speed    567\n",
       "Country       567\n",
       "Date          567\n",
       "dtype: int64"
      ]
     },
     "execution_count": 9,
     "metadata": {},
     "output_type": "execute_result"
    }
   ],
   "source": [
    "#show count of rows (records) in new weather dataframe\n",
    "weather_df.count()"
   ]
  },
  {
   "cell_type": "code",
   "execution_count": 10,
   "metadata": {},
   "outputs": [
    {
     "data": {
      "text/plain": [
       "0"
      ]
     },
     "execution_count": 10,
     "metadata": {},
     "output_type": "execute_result"
    }
   ],
   "source": [
    "#create dataframe of cities where humidity is 100 and show a count of the cities \n",
    "humidity100=weather_df.loc[weather_df['Humidity']>100,:]\n",
    "len(humidity100)"
   ]
  },
  {
   "cell_type": "code",
   "execution_count": 11,
   "metadata": {},
   "outputs": [
    {
     "data": {
      "text/html": [
       "<div>\n",
       "<style scoped>\n",
       "    .dataframe tbody tr th:only-of-type {\n",
       "        vertical-align: middle;\n",
       "    }\n",
       "\n",
       "    .dataframe tbody tr th {\n",
       "        vertical-align: top;\n",
       "    }\n",
       "\n",
       "    .dataframe thead th {\n",
       "        text-align: right;\n",
       "    }\n",
       "</style>\n",
       "<table border=\"1\" class=\"dataframe\">\n",
       "  <thead>\n",
       "    <tr style=\"text-align: right;\">\n",
       "      <th></th>\n",
       "      <th>City</th>\n",
       "      <th>Lat</th>\n",
       "      <th>Lng</th>\n",
       "      <th>Max Temp</th>\n",
       "      <th>Humidity</th>\n",
       "      <th>Cloudiness</th>\n",
       "      <th>Wind Speed</th>\n",
       "      <th>Country</th>\n",
       "      <th>Date</th>\n",
       "    </tr>\n",
       "  </thead>\n",
       "  <tbody>\n",
       "  </tbody>\n",
       "</table>\n",
       "</div>"
      ],
      "text/plain": [
       "Empty DataFrame\n",
       "Columns: [City, Lat, Lng, Max Temp, Humidity, Cloudiness, Wind Speed, Country, Date]\n",
       "Index: []"
      ]
     },
     "execution_count": 11,
     "metadata": {},
     "output_type": "execute_result"
    }
   ],
   "source": [
    "#  Get the indices of cities that have humidity over 100%.\n",
    "humidity100"
   ]
  },
  {
   "cell_type": "code",
   "execution_count": 12,
   "metadata": {},
   "outputs": [],
   "source": [
    "# Make a new DataFrame equal to the city data to drop all humidity outliers by index.\n",
    "# Passing \"inplace=False\" will make a copy of the city_data DataFrame, which we call \"clean_city_data\".\n",
    "\n",
    "clean_city_data=weather_df.drop(weather_df[weather_df['Humidity'] > 100].index, inplace = False)    "
   ]
  },
  {
   "cell_type": "code",
   "execution_count": 13,
   "metadata": {},
   "outputs": [
    {
     "data": {
      "text/plain": [
       "0"
      ]
     },
     "execution_count": 13,
     "metadata": {},
     "output_type": "execute_result"
    }
   ],
   "source": [
    "#show cities where humidity is equal to 100 after cleaning dataframe and creating new one \n",
    "humidity100=clean_city_data.loc[clean_city_data['Humidity']>100,:]\n",
    "len(humidity100)"
   ]
  },
  {
   "cell_type": "code",
   "execution_count": 14,
   "metadata": {},
   "outputs": [
    {
     "data": {
      "text/plain": [
       "City          567\n",
       "Lat           567\n",
       "Lng           567\n",
       "Max Temp      567\n",
       "Humidity      567\n",
       "Cloudiness    567\n",
       "Wind Speed    567\n",
       "Country       567\n",
       "Date          567\n",
       "dtype: int64"
      ]
     },
     "execution_count": 14,
     "metadata": {},
     "output_type": "execute_result"
    }
   ],
   "source": [
    "clean_city_data.count()"
   ]
  },
  {
   "cell_type": "markdown",
   "metadata": {},
   "source": [
    "## Plotting the Data\n",
    "* Use proper labeling of the plots using plot titles (including date of analysis) and axes labels.\n",
    "* Save the plotted figures as .pngs."
   ]
  },
  {
   "cell_type": "markdown",
   "metadata": {},
   "source": [
    "## Latitude vs. Temperature Plot"
   ]
  },
  {
   "cell_type": "code",
   "execution_count": 15,
   "metadata": {
    "scrolled": true
   },
   "outputs": [
    {
     "data": {
      "text/plain": [
       "Text(0, 0.5, 'City Temperature')"
      ]
     },
     "execution_count": 15,
     "metadata": {},
     "output_type": "execute_result"
    },
    {
     "data": {
      "image/png": "[encoded data removed]",
      "text/plain": [
       "<Figure size 432x288 with 1 Axes>"
      ]
     },
     "metadata": {
      "needs_background": "light"
     },
     "output_type": "display_data"
    }
   ],
   "source": [
    "x_values=clean_city_data['Lat']\n",
    "y_values=clean_city_data['Max Temp']\n",
    "plt.scatter(x_values, y_values, marker=\"o\", facecolors=\"red\", edgecolors=\"black\",\n",
    "            alpha=.5)\n",
    "plt.xlim(-65,85)\n",
    "plt.ylim(-50, 45)\n",
    "plt.title('Latitude vs. Temperature')\n",
    "plt.xlabel('City Latitude')\n",
    "plt.ylabel('City Temperature')"
   ]
  },
  {
   "cell_type": "markdown",
   "metadata": {},
   "source": [
    "## Latitude vs. Humidity Plot"
   ]
  },
  {
   "cell_type": "code",
   "execution_count": 16,
   "metadata": {},
   "outputs": [
    {
     "data": {
      "text/plain": [
       "Text(0, 0.5, 'City Humidity')"
      ]
     },
     "execution_count": 16,
     "metadata": {},
     "output_type": "execute_result"
    },
    {
     "data": {
      "image/png": "[encoded data removed]",
      "text/plain": [
       "<Figure size 432x288 with 1 Axes>"
      ]
     },
     "metadata": {
      "needs_background": "light"
     },
     "output_type": "display_data"
    }
   ],
   "source": [
    "x_values=clean_city_data['Lat']\n",
    "y_values=clean_city_data['Humidity']\n",
    "plt.scatter(x_values, y_values, marker=\"o\", facecolors=\"red\", edgecolors=\"black\",\n",
    "            alpha=.5)\n",
    "\n",
    "plt.title('Latitude vs. Humidity')\n",
    "plt.xlabel(\"City Latitude\")\n",
    "plt.ylabel(\"City Humidity\")"
   ]
  },
  {
   "cell_type": "markdown",
   "metadata": {},
   "source": [
    "## Latitude vs. Cloudiness Plot"
   ]
  },
  {
   "cell_type": "code",
   "execution_count": 17,
   "metadata": {},
   "outputs": [
    {
     "data": {
      "text/plain": [
       "Text(0, 0.5, 'City Cloudiness')"
      ]
     },
     "execution_count": 17,
     "metadata": {},
     "output_type": "execute_result"
    },
    {
     "data": {
      "image/png": "[encoded data removed]",
      "text/plain": [
       "<Figure size 432x288 with 1 Axes>"
      ]
     },
     "metadata": {
      "needs_background": "light"
     },
     "output_type": "display_data"
    }
   ],
   "source": [
    "x_values=clean_city_data['Lat']\n",
    "y_values=clean_city_data['Cloudiness']\n",
    "plt.scatter(x_values, y_values, marker=\"o\", facecolors=\"red\", edgecolors=\"black\",\n",
    "            alpha=.5)\n",
    "\n",
    "plt.ylim(-5, 105)\n",
    "plt.title('Latitude vs. Cloudiness')\n",
    "plt.xlabel('City Latitude')\n",
    "plt.ylabel('City Cloudiness')"
   ]
  },
  {
   "cell_type": "markdown",
   "metadata": {},
   "source": [
    "## Latitude vs. Wind Speed Plot"
   ]
  },
  {
   "cell_type": "code",
   "execution_count": 18,
   "metadata": {},
   "outputs": [
    {
     "data": {
      "text/plain": [
       "Text(0, 0.5, 'City Wind Speed (mph)')"
      ]
     },
     "execution_count": 18,
     "metadata": {},
     "output_type": "execute_result"
    },
    {
     "data": {
      "image/png": "[encoded data removed]",
      "text/plain": [
       "<Figure size 432x288 with 1 Axes>"
      ]
     },
     "metadata": {
      "needs_background": "light"
     },
     "output_type": "display_data"
    }
   ],
   "source": [
    "x_values=clean_city_data['Lat']\n",
    "y_values=clean_city_data['Wind Speed']\n",
    "plt.scatter(x_values, y_values, marker=\"o\", facecolors=\"red\", edgecolors=\"black\",\n",
    "            alpha=.5)\n",
    "\n",
    "plt.title('Latitude vs. Wind Speed (mph)')\n",
    "plt.xlabel('City Latitude')\n",
    "plt.ylabel('City Wind Speed (mph)')"
   ]
  },
  {
   "cell_type": "markdown",
   "metadata": {},
   "source": [
    "## Linear Regression"
   ]
  },
  {
   "cell_type": "code",
   "execution_count": 19,
   "metadata": {},
   "outputs": [
    {
     "name": "stdout",
     "output_type": "stream",
     "text": [
      "There are 171 cities in the southern hemisphere\n",
      "There are 396 cities in the southern hemisphere\n"
     ]
    }
   ],
   "source": [
    "south_df=clean_city_data.loc[clean_city_data['Lat']<0,:]\n",
    "north_df=clean_city_data.loc[clean_city_data['Lat']>0,:]\n",
    "print(f'There are {len(south_df)} cities in the southern hemisphere')\n",
    "print(f'There are {len(north_df)} cities in the southern hemisphere')"
   ]
  },
  {
   "cell_type": "markdown",
   "metadata": {},
   "source": [
    "####  Northern Hemisphere - Max Temp vs. Latitude Linear Regression"
   ]
  },
  {
   "cell_type": "code",
   "execution_count": 20,
   "metadata": {},
   "outputs": [
    {
     "name": "stdout",
     "output_type": "stream",
     "text": [
      "The r-squared is: 0.7242061229463242\n"
     ]
    },
    {
     "data": {
      "image/png": "[encoded data removed]",
      "text/plain": [
       "<Figure size 432x288 with 1 Axes>"
      ]
     },
     "metadata": {
      "needs_background": "light"
     },
     "output_type": "display_data"
    }
   ],
   "source": [
    "\n",
    "x_values = north_df['Lat']\n",
    "y_values = north_df['Max Temp']\n",
    "(slope, intercept, rvalue, pvalue, stderr) = linregress(x_values, y_values)\n",
    "regress_values = x_values * slope + intercept\n",
    "line_eq = \"y = \" + str(round(slope,2)) + \"x + \" + str(round(intercept,2))\n",
    "plt.scatter(x_values,y_values)\n",
    "plt.plot(x_values,regress_values,\"r-\")\n",
    "plt.annotate(line_eq,(10,-20),fontsize=15,color=\"red\")\n",
    "plt.xlabel('City Latitude')\n",
    "plt.ylabel('Maximum Temperatures')\n",
    "print(f\"The r-squared is: {rvalue**2}\")\n",
    "plt.show()"
   ]
  },
  {
   "cell_type": "markdown",
   "metadata": {},
   "source": [
    "####  Southern Hemisphere - Max Temp vs. Latitude Linear Regression"
   ]
  },
  {
   "cell_type": "code",
   "execution_count": 21,
   "metadata": {},
   "outputs": [
    {
     "name": "stdout",
     "output_type": "stream",
     "text": [
      "The r-squared is: 0.5591408676139416\n"
     ]
    },
    {
     "data": {
      "image/png": "[encoded data removed]",
      "text/plain": [
       "<Figure size 432x288 with 1 Axes>"
      ]
     },
     "metadata": {
      "needs_background": "light"
     },
     "output_type": "display_data"
    }
   ],
   "source": [
    "\n",
    "x_values = south_df['Lat']\n",
    "y_values = south_df['Max Temp']\n",
    "(slope, intercept, rvalue, pvalue, stderr) = linregress(x_values, y_values)\n",
    "regress_values = x_values * slope + intercept\n",
    "line_eq = \"y = \" + str(round(slope,2)) + \"x + \" + str(round(intercept,2))\n",
    "plt.scatter(x_values,y_values)\n",
    "plt.plot(x_values,regress_values,\"r-\")\n",
    "plt.annotate(line_eq,(-30,10),fontsize=15,color=\"red\")\n",
    "plt.xlabel('City Latitude')\n",
    "plt.ylabel('Maximum Temperatures')\n",
    "print(f\"The r-squared is: {rvalue**2}\")\n",
    "plt.show()"
   ]
  },
  {
   "cell_type": "markdown",
   "metadata": {},
   "source": [
    "####  Northern Hemisphere - Humidity (%) vs. Latitude Linear Regression"
   ]
  },
  {
   "cell_type": "code",
   "execution_count": 22,
   "metadata": {},
   "outputs": [
    {
     "name": "stdout",
     "output_type": "stream",
     "text": [
      "The r-squared is: 0.05928372334778289\n"
     ]
    },
    {
     "data": {
      "image/png": "[encoded data removed]",
      "text/plain": [
       "<Figure size 432x288 with 1 Axes>"
      ]
     },
     "metadata": {
      "needs_background": "light"
     },
     "output_type": "display_data"
    }
   ],
   "source": [
    "\n",
    "x_values = north_df['Lat']\n",
    "y_values = north_df['Humidity']\n",
    "(slope, intercept, rvalue, pvalue, stderr) = linregress(x_values, y_values)\n",
    "regress_values = x_values * slope + intercept\n",
    "line_eq = \"y = \" + str(round(slope,2)) + \"x + \" + str(round(intercept,2))\n",
    "plt.scatter(x_values,y_values)\n",
    "plt.plot(x_values,regress_values,\"r-\")\n",
    "plt.annotate(line_eq,(16,44),fontsize=15,color=\"red\")\n",
    "plt.xlabel('City Latitude')\n",
    "plt.ylabel('Humidity')\n",
    "print(f\"The r-squared is: {rvalue**2}\")\n",
    "plt.show()"
   ]
  },
  {
   "cell_type": "markdown",
   "metadata": {},
   "source": [
    "####  Southern Hemisphere - Humidity (%) vs. Latitude Linear Regression"
   ]
  },
  {
   "cell_type": "code",
   "execution_count": 23,
   "metadata": {},
   "outputs": [
    {
     "name": "stdout",
     "output_type": "stream",
     "text": [
      "The r-squared is: 0.045491459567353065\n"
     ]
    },
    {
     "data": {
      "image/png": "[encoded data removed]",
      "text/plain": [
       "<Figure size 432x288 with 1 Axes>"
      ]
     },
     "metadata": {
      "needs_background": "light"
     },
     "output_type": "display_data"
    }
   ],
   "source": [
    "x_values = south_df['Lat']\n",
    "y_values = south_df['Humidity']\n",
    "(slope, intercept, rvalue, pvalue, stderr) = linregress(x_values, y_values)\n",
    "regress_values = x_values * slope + intercept\n",
    "line_eq = \"y = \" + str(round(slope,2)) + \"x + \" + str(round(intercept,2))\n",
    "plt.scatter(x_values,y_values)\n",
    "plt.plot(x_values,regress_values,\"r-\")\n",
    "plt.annotate(line_eq,(16,44),fontsize=15,color=\"red\")\n",
    "plt.xlabel('City Latitude')\n",
    "plt.ylabel('Humidity')\n",
    "print(f\"The r-squared is: {rvalue**2}\")\n",
    "plt.show()"
   ]
  },
  {
   "cell_type": "markdown",
   "metadata": {},
   "source": [
    "####  Northern Hemisphere - Cloudiness (%) vs. Latitude Linear Regression"
   ]
  },
  {
   "cell_type": "code",
   "execution_count": 24,
   "metadata": {},
   "outputs": [
    {
     "name": "stdout",
     "output_type": "stream",
     "text": [
      "The r-squared is: 0.015233259538937052\n"
     ]
    },
    {
     "data": {
      "image/png": "[encoded data removed]",
      "text/plain": [
       "<Figure size 432x288 with 1 Axes>"
      ]
     },
     "metadata": {
      "needs_background": "light"
     },
     "output_type": "display_data"
    }
   ],
   "source": [
    "\n",
    "x_values = north_df['Lat']\n",
    "y_values = north_df['Cloudiness']\n",
    "(slope, intercept, rvalue, pvalue, stderr) = linregress(x_values, y_values)\n",
    "regress_values = x_values * slope + intercept\n",
    "line_eq = \"y = \" + str(round(slope,2)) + \"x + \" + str(round(intercept,2))\n",
    "plt.scatter(x_values,y_values)\n",
    "plt.plot(x_values,regress_values,\"r-\")\n",
    "plt.annotate(line_eq,(16,44),fontsize=15,color=\"red\")\n",
    "plt.xlabel('City Latitude')\n",
    "plt.ylabel('Overall Cloudiness')\n",
    "print(f\"The r-squared is: {rvalue**2}\")\n",
    "plt.show()"
   ]
  },
  {
   "cell_type": "markdown",
   "metadata": {},
   "source": [
    "####  Southern Hemisphere - Cloudiness (%) vs. Latitude Linear Regression"
   ]
  },
  {
   "cell_type": "code",
   "execution_count": 25,
   "metadata": {},
   "outputs": [
    {
     "name": "stdout",
     "output_type": "stream",
     "text": [
      "The r-squared is: 0.0082348809594406\n"
     ]
    },
    {
     "data": {
      "image/png": "[encoded data removed]",
      "text/plain": [
       "<Figure size 432x288 with 1 Axes>"
      ]
     },
     "metadata": {
      "needs_background": "light"
     },
     "output_type": "display_data"
    }
   ],
   "source": [
    "x_values = south_df['Lat']\n",
    "y_values = south_df['Cloudiness']\n",
    "(slope, intercept, rvalue, pvalue, stderr) = linregress(x_values, y_values)\n",
    "regress_values = x_values * slope + intercept\n",
    "line_eq = \"y = \" + str(round(slope,2)) + \"x + \" + str(round(intercept,2))\n",
    "plt.scatter(x_values,y_values)\n",
    "plt.plot(x_values,regress_values,\"r-\")\n",
    "plt.annotate(line_eq,(16,44),fontsize=15,color=\"red\")\n",
    "plt.xlabel('City Latitude')\n",
    "plt.ylabel('Overall Cloudiness')\n",
    "print(f\"The r-squared is: {rvalue**2}\")\n",
    "plt.show()"
   ]
  },
  {
   "cell_type": "markdown",
   "metadata": {},
   "source": [
    "####  Northern Hemisphere - Wind Speed (mph) vs. Latitude Linear Regression"
   ]
  },
  {
   "cell_type": "code",
   "execution_count": 26,
   "metadata": {},
   "outputs": [
    {
     "name": "stdout",
     "output_type": "stream",
     "text": [
      "The r-squared is: 2.583049344381129e-05\n"
     ]
    },
    {
     "data": {
      "image/png": "[encoded data removed]",
      "text/plain": [
       "<Figure size 432x288 with 1 Axes>"
      ]
     },
     "metadata": {
      "needs_background": "light"
     },
     "output_type": "display_data"
    }
   ],
   "source": [
    "x_values = north_df['Lat']\n",
    "y_values = north_df['Wind Speed']\n",
    "(slope, intercept, rvalue, pvalue, stderr) = linregress(x_values, y_values)\n",
    "regress_values = x_values * slope + intercept\n",
    "line_eq = \"y = \" + str(round(slope,2)) + \"x + \" + str(round(intercept,2))\n",
    "plt.scatter(x_values,y_values)\n",
    "plt.plot(x_values,regress_values,\"r-\")\n",
    "plt.annotate(line_eq,(10,14),fontsize=15,color=\"red\")\n",
    "plt.xlabel('City Latitude')\n",
    "plt.ylabel('Overall Wind Speed')\n",
    "print(f\"The r-squared is: {rvalue**2}\")\n",
    "plt.show()"
   ]
  },
  {
   "cell_type": "markdown",
   "metadata": {},
   "source": [
    "####  Southern Hemisphere - Wind Speed (mph) vs. Latitude Linear Regression"
   ]
  },
  {
   "cell_type": "code",
   "execution_count": 27,
   "metadata": {},
   "outputs": [
    {
     "name": "stdout",
     "output_type": "stream",
     "text": [
      "The r-squared is: 0.02094581008712597\n"
     ]
    },
    {
     "data": {
      "image/png": "[encoded data removed]",
      "text/plain": [
       "<Figure size 432x288 with 1 Axes>"
      ]
     },
     "metadata": {
      "needs_background": "light"
     },
     "output_type": "display_data"
    }
   ],
   "source": [
    "x_values = south_df['Lat']\n",
    "y_values = south_df['Wind Speed']\n",
    "(slope, intercept, rvalue, pvalue, stderr) = linregress(x_values, y_values)\n",
    "regress_values = x_values * slope + intercept\n",
    "line_eq = \"y = \" + str(round(slope,2)) + \"x + \" + str(round(intercept,2))\n",
    "plt.scatter(x_values,y_values)\n",
    "plt.plot(x_values,regress_values,\"r-\")\n",
    "plt.annotate(line_eq,(10,14),fontsize=15,color=\"red\")\n",
    "plt.xlabel('City Latitude')\n",
    "plt.ylabel('Overall Wind Speed')\n",
    "print(f\"The r-squared is: {rvalue**2}\")\n",
    "plt.show()"
   ]
  },
  {
   "cell_type": "code",
   "execution_count": null,
   "metadata": {},
   "outputs": [],
   "source": []
  },
  {
   "cell_type": "code",
   "execution_count": null,
   "metadata": {},
   "outputs": [],
   "source": []
  },
  {
   "cell_type": "code",
   "execution_count": null,
   "metadata": {},
   "outputs": [],
   "source": []
  },
  {
   "cell_type": "code",
   "execution_count": null,
   "metadata": {},
   "outputs": [],
   "source": []
  }
 ],
 "metadata": {
  "anaconda-cloud": {},
  "kernel_info": {
   "name": "python3"
  },
  "kernelspec": {
   "display_name": "Python 3 (ipykernel)",
   "language": "python",
   "name": "python3"
  },
  "language_info": {
   "codemirror_mode": {
    "name": "ipython",
    "version": 3
   },
   "file_extension": ".py",
   "mimetype": "text/x-python",
   "name": "python",
   "nbconvert_exporter": "python",
   "pygments_lexer": "ipython3",
   "version": "3.9.7"
  },
  "latex_envs": {
   "LaTeX_envs_menu_present": true,
   "autoclose": false,
   "autocomplete": true,
   "bibliofile": "biblio.bib",
   "cite_by": "apalike",
   "current_citInitial": 1,
   "eqLabelWithNumbers": true,
   "eqNumInitial": 1,
   "hotkeys": {
    "equation": "Ctrl-E",
    "itemize": "Ctrl-I"
   },
   "labels_anchors": false,
   "latex_user_defs": false,
   "report_style_numbering": false,
   "user_envs_cfg": false
  },
  "nteract": {
   "version": "0.12.3"
  }
 },
 "nbformat": 4,
 "nbformat_minor": 2
}
