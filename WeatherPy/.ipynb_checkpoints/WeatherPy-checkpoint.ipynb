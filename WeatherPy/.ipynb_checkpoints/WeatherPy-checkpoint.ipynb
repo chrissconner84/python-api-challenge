{
 "cells": [
  {
   "cell_type": "markdown",
   "metadata": {},
   "source": [
    "# WeatherPy\n",
    "----\n",
    "\n",
    "#### Note\n",
    "* Instructions have been included for each segment. You do not have to follow them exactly, but they are included to help you think through the steps."
   ]
  },
  {
   "cell_type": "code",
   "execution_count": 1,
   "metadata": {
    "scrolled": true
   },
   "outputs": [],
   "source": [
    "# Dependencies and Setup\n",
    "import matplotlib.pyplot as plt\n",
    "import pandas as pd\n",
    "import numpy as np\n",
    "import requests\n",
    "import time\n",
    "from scipy.stats import linregress\n",
    "import pprint\n",
    "\n",
    "# Import API key\n",
    "from api_keys import weather_api_key\n",
    "\n",
    "# Incorporated citipy to determine city based on latitude and longitude\n",
    "from citipy import citipy\n",
    "\n",
    "# Output File (CSV)\n",
    "output_data_file = \"output_data/cities.csv\"\n",
    "\n",
    "# Range of latitudes and longitudes\n",
    "lat_range = (-90, 90)\n",
    "lng_range = (-180, 180)"
   ]
  },
  {
   "cell_type": "markdown",
   "metadata": {},
   "source": [
    "## Generate Cities List"
   ]
  },
  {
   "cell_type": "code",
   "execution_count": 2,
   "metadata": {},
   "outputs": [],
   "source": [
    "# List for holding lat_lngs and cities\n",
    "lat_lngs = []\n",
    "cities = []\n",
    "\n",
    "# Create a set of random lat and lng combinations\n",
    "lats = np.random.uniform(lat_range[0], lat_range[1], size=1500)\n",
    "lngs = np.random.uniform(lng_range[0], lng_range[1], size=1500)\n",
    "lat_lngs = zip(lats, lngs)\n",
    "new_lat=[]\n",
    "new_lng=[]\n"
   ]
  },
  {
   "cell_type": "code",
   "execution_count": 3,
   "metadata": {},
   "outputs": [
    {
     "data": {
      "text/plain": [
       "610"
      ]
     },
     "execution_count": 3,
     "metadata": {},
     "output_type": "execute_result"
    }
   ],
   "source": [
    "# Identify nearest city for each lat, lng combination\n",
    "for lat_lng in lat_lngs:\n",
    "    city = citipy.nearest_city(lat_lng[0], lat_lng[1]).city_name\n",
    "    \n",
    "    # If the city is unique, then add it to a our cities list\n",
    "    if city not in cities:\n",
    "        cities.append(city)    \n",
    "\n",
    "len(cities)"
   ]
  },
  {
   "cell_type": "markdown",
   "metadata": {},
   "source": [
    "### Perform API Calls\n",
    "* Perform a weather check on each city using a series of successive API calls.\n",
    "* Include a print log of each city as it'sbeing processed (with the city number and city name).\n",
    "\n",
    "> **HINT:** The OpenWeatherMap API only allows 60 calls per minute under their free plan. Try using `time.sleep(60)` after each set of 50 cities to avoid API errors due to large calls."
   ]
  },
  {
   "cell_type": "code",
   "execution_count": 4,
   "metadata": {},
   "outputs": [
    {
     "name": "stdout",
     "output_type": "stream",
     "text": [
      "http://api.openweathermap.org/data/2.5/weather?appid=ac754380fe45caa109559606cd682047&units=metric&q=\n"
     ]
    }
   ],
   "source": [
    "# Save config information.\n",
    "url = \"http://api.openweathermap.org/data/2.5/weather?\"\n",
    "units = \"metric\"\n",
    "\n",
    "# Build partial query URL\n",
    "query_url = f\"{url}appid={weather_api_key}&units={units}&q=\"\n",
    "print(query_url)\n"
   ]
  },
  {
   "cell_type": "code",
   "execution_count": 39,
   "metadata": {
    "scrolled": true
   },
   "outputs": [
    {
     "name": "stdout",
     "output_type": "stream",
     "text": [
      "maceio ID: 3395981 found! Appending stats\n",
      "City not found\n",
      "severo-kurilsk ID: 2121385 found! Appending stats\n",
      "beyneu ID: 610298 found! Appending stats\n",
      "City not found\n",
      "arraial do cabo ID: 3471451 found! Appending stats\n",
      "auki ID: 2109701 found! Appending stats\n",
      "ledyard ID: 4837648 found! Appending stats\n",
      "khatanga ID: 2022572 found! Appending stats\n",
      "chokurdakh ID: 2126123 found! Appending stats\n",
      "vaini ID: 4032243 found! Appending stats\n",
      "hobart ID: 2163355 found! Appending stats\n",
      "meulaboh ID: 1214488 found! Appending stats\n",
      "bredasdorp ID: 1015776 found! Appending stats\n",
      "vao ID: 2137773 found! Appending stats\n",
      "bismarck ID: 5688025 found! Appending stats\n",
      "torbay ID: 6167817 found! Appending stats\n",
      "tilichiki ID: 2120591 found! Appending stats\n",
      "kununurra ID: 2068110 found! Appending stats\n",
      "zaranj ID: 1120985 found! Appending stats\n",
      "east london ID: 1006984 found! Appending stats\n",
      "grande prairie ID: 5964347 found! Appending stats\n",
      "celldomolk ID: 3054533 found! Appending stats\n",
      "mega ID: 331259 found! Appending stats\n",
      "bubaque ID: 2374583 found! Appending stats\n",
      "rikitea ID: 4030556 found! Appending stats\n",
      "am timan ID: 245338 found! Appending stats\n",
      "cabra ID: 2520645 found! Appending stats\n",
      "provideniya ID: 4031574 found! Appending stats\n",
      "kapaa ID: 5848280 found! Appending stats\n",
      "olafsvik ID: 3414079 found! Appending stats\n",
      "formosa ID: 3433899 found! Appending stats\n",
      "rio gallegos ID: 3838859 found! Appending stats\n",
      "ushuaia ID: 3833367 found! Appending stats\n",
      "kralendijk ID: 3513563 found! Appending stats\n",
      "dongsheng ID: 1812256 found! Appending stats\n",
      "oriximina ID: 3393471 found! Appending stats\n",
      "bereda ID: 3105522 found! Appending stats\n",
      "camacha ID: 2270385 found! Appending stats\n",
      "port elizabeth ID: 964420 found! Appending stats\n",
      "cidreira ID: 3466165 found! Appending stats\n",
      "saldanha ID: 3361934 found! Appending stats\n",
      "hilo ID: 5855927 found! Appending stats\n",
      "selizharovo ID: 497661 found! Appending stats\n",
      "punta arenas ID: 3874787 found! Appending stats\n",
      "bluff ID: 2206939 found! Appending stats\n",
      "qaanaaq ID: 3831208 found! Appending stats\n",
      "chuy ID: 3443061 found! Appending stats\n",
      "coquimbo ID: 3893629 found! Appending stats\n",
      "bengkulu ID: 1649150 found! Appending stats\n",
      "puerto ayora ID: 3652764 found! Appending stats\n",
      "ambon ID: 1651531 found! Appending stats\n",
      "luderitz ID: 3355672 found! Appending stats\n",
      "hithadhoo ID: 1282256 found! Appending stats\n",
      "City not found\n",
      "dingle ID: 1714733 found! Appending stats\n",
      "susanville ID: 5572400 found! Appending stats\n",
      "tual ID: 1623197 found! Appending stats\n",
      "jalu ID: 86049 found! Appending stats\n",
      "kashary ID: 552006 found! Appending stats\n",
      "ahipara ID: 2194098 found! Appending stats\n",
      "barrow ID: 5880054 found! Appending stats\n",
      "bonthe ID: 2409914 found! Appending stats\n",
      "mount gambier ID: 2156643 found! Appending stats\n",
      "City not found\n",
      "saint-francois ID: 2980080 found! Appending stats\n",
      "dikson ID: 1507390 found! Appending stats\n",
      "mataura ID: 6201424 found! Appending stats\n",
      "sechura ID: 3691954 found! Appending stats\n",
      "City not found\n",
      "geraldton ID: 2070998 found! Appending stats\n",
      "jamestown ID: 5122534 found! Appending stats\n",
      "vadso ID: 777073 found! Appending stats\n",
      "tabou ID: 2281120 found! Appending stats\n",
      "altay ID: 1529651 found! Appending stats\n",
      "new norfolk ID: 2155415 found! Appending stats\n",
      "tiksi ID: 2015306 found! Appending stats\n",
      "cayenne ID: 3382160 found! Appending stats\n",
      "busselton ID: 2075265 found! Appending stats\n",
      "kharp ID: 1503726 found! Appending stats\n",
      "saint-philippe ID: 935215 found! Appending stats\n",
      "manali ID: 1263968 found! Appending stats\n",
      "pecangakan ID: 1624494 found! Appending stats\n",
      "borovoy ID: 1508894 found! Appending stats\n",
      "ancud ID: 3899695 found! Appending stats\n",
      "cape town ID: 3369157 found! Appending stats\n",
      "te anau ID: 2181625 found! Appending stats\n",
      "mount isa ID: 2065594 found! Appending stats\n",
      "bungoma ID: 200067 found! Appending stats\n",
      "leningradskiy ID: 2123814 found! Appending stats\n",
      "City not found\n",
      "City not found\n",
      "talakan ID: 2015686 found! Appending stats\n",
      "albany ID: 5106841 found! Appending stats\n",
      "general roca ID: 3855065 found! Appending stats\n",
      "atuona ID: 4020109 found! Appending stats\n",
      "marsh harbour ID: 3571913 found! Appending stats\n",
      "trat ID: 1605277 found! Appending stats\n",
      "kargasok ID: 1504382 found! Appending stats\n",
      "esperance ID: 2071860 found! Appending stats\n",
      "port alfred ID: 964432 found! Appending stats\n",
      "mar del plata ID: 3430863 found! Appending stats\n",
      "opochka ID: 515155 found! Appending stats\n",
      "murdochville ID: 6943820 found! Appending stats\n",
      "hun ID: 2216645 found! Appending stats\n",
      "caravelas ID: 3466980 found! Appending stats\n",
      "saskylakh ID: 2017155 found! Appending stats\n",
      "kahului ID: 5847411 found! Appending stats\n",
      "hami ID: 1529484 found! Appending stats\n",
      "katsuura ID: 2112309 found! Appending stats\n",
      "graaff-reinet ID: 1000543 found! Appending stats\n",
      "bantogon ID: 1726977 found! Appending stats\n",
      "upernavik ID: 3418910 found! Appending stats\n",
      "broome ID: 5110365 found! Appending stats\n",
      "mujiayingzi ID: 2035707 found! Appending stats\n",
      "tuktoyaktuk ID: 6170031 found! Appending stats\n",
      "narsaq ID: 3421719 found! Appending stats\n",
      "tshane ID: 933726 found! Appending stats\n",
      "los llanos de aridane ID: 2514651 found! Appending stats\n",
      "City not found\n",
      "mahebourg ID: 934322 found! Appending stats\n",
      "ribeira grande ID: 3372707 found! Appending stats\n",
      "butaritari ID: 2110227 found! Appending stats\n",
      "verkhoyansk ID: 2013465 found! Appending stats\n",
      "cherskiy ID: 2126199 found! Appending stats\n",
      "rehoboth ID: 3353540 found! Appending stats\n",
      "morondava ID: 1058381 found! Appending stats\n",
      "thompson ID: 6165406 found! Appending stats\n",
      "paratebueno ID: 3769960 found! Appending stats\n",
      "cabo san lucas ID: 3985710 found! Appending stats\n",
      "nhulunbuy ID: 2064735 found! Appending stats\n",
      "hambantota ID: 1244926 found! Appending stats\n",
      "constitucion ID: 3893726 found! Appending stats\n",
      "kaitangata ID: 2208248 found! Appending stats\n",
      "City not found\n",
      "carutapera ID: 3402648 found! Appending stats\n",
      "winnemucca ID: 5710360 found! Appending stats\n",
      "faya ID: 110690 found! Appending stats\n",
      "baghdad ID: 98182 found! Appending stats\n",
      "hermanus ID: 3366880 found! Appending stats\n",
      "saint-augustin ID: 6137462 found! Appending stats\n",
      "kamenka ID: 553766 found! Appending stats\n",
      "tynda ID: 2014718 found! Appending stats\n",
      "nikolskoye ID: 546105 found! Appending stats\n",
      "fryanovo ID: 562322 found! Appending stats\n",
      "maniitsoq ID: 3421982 found! Appending stats\n",
      "kruisfontein ID: 986717 found! Appending stats\n",
      "northam ID: 2641434 found! Appending stats\n",
      "lazaro cardenas ID: 4026082 found! Appending stats\n",
      "City not found\n",
      "City not found\n",
      "henties bay ID: 3356832 found! Appending stats\n",
      "mackay ID: 2159220 found! Appending stats\n",
      "lavrentiya ID: 4031637 found! Appending stats\n",
      "svetlogorsk ID: 10722858 found! Appending stats\n",
      "pisco ID: 3932145 found! Appending stats\n",
      "bagnols-sur-ceze ID: 3035396 found! Appending stats\n",
      "mineiros ID: 3457147 found! Appending stats\n",
      "kavieng ID: 2094342 found! Appending stats\n",
      "ponta do sol ID: 2264557 found! Appending stats\n",
      "merauke ID: 2082539 found! Appending stats\n",
      "port hardy ID: 6111862 found! Appending stats\n",
      "City not found\n",
      "amahai ID: 1651591 found! Appending stats\n",
      "tuy hoa ID: 1563281 found! Appending stats\n",
      "City not found\n",
      "klaksvik ID: 2618795 found! Appending stats\n",
      "avarua ID: 4035715 found! Appending stats\n",
      "bambous virieux ID: 1106677 found! Appending stats\n",
      "pabna ID: 1336143 found! Appending stats\n",
      "paragominas ID: 3393106 found! Appending stats\n",
      "chuka ID: 199284 found! Appending stats\n",
      "anloga ID: 2304548 found! Appending stats\n",
      "dolores ID: 3435038 found! Appending stats\n",
      "kavaratti ID: 1267390 found! Appending stats\n",
      "ingham ID: 4997130 found! Appending stats\n",
      "colac ID: 2171069 found! Appending stats\n",
      "mogadishu ID: 53654 found! Appending stats\n",
      "lewistown ID: 5197850 found! Appending stats\n",
      "carcassonne ID: 3028640 found! Appending stats\n",
      "phan thiet ID: 1571058 found! Appending stats\n",
      "half moon bay ID: 5354943 found! Appending stats\n",
      "carnarvon ID: 2074865 found! Appending stats\n",
      "yulara ID: 6355222 found! Appending stats\n",
      "imeni babushkina ID: 556858 found! Appending stats\n",
      "kupang ID: 2057087 found! Appending stats\n",
      "ushtobe ID: 1517637 found! Appending stats\n",
      "City not found\n",
      "atar ID: 2381334 found! Appending stats\n",
      "novopokrovka ID: 699328 found! Appending stats\n",
      "norman wells ID: 6089245 found! Appending stats\n",
      "saint-pierre ID: 935214 found! Appending stats\n",
      "margate ID: 2643044 found! Appending stats\n",
      "City not found\n",
      "kalmunai ID: 1242110 found! Appending stats\n"
     ]
    },
    {
     "name": "stdout",
     "output_type": "stream",
     "text": [
      "ust-kuyga ID: 2013921 found! Appending stats\n",
      "sabang ID: 1214026 found! Appending stats\n",
      "calbuco ID: 3897334 found! Appending stats\n",
      "sitka ID: 5557293 found! Appending stats\n",
      "endicott ID: 5116602 found! Appending stats\n",
      "eskil ID: 315218 found! Appending stats\n",
      "tautira ID: 4033557 found! Appending stats\n",
      "kodinsk ID: 1503037 found! Appending stats\n",
      "urengoy ID: 1488414 found! Appending stats\n",
      "lebu ID: 3883457 found! Appending stats\n",
      "muhos ID: 645765 found! Appending stats\n",
      "najran ID: 103630 found! Appending stats\n",
      "axim ID: 2303611 found! Appending stats\n",
      "waipawa ID: 2206874 found! Appending stats\n",
      "castro ID: 3466704 found! Appending stats\n",
      "City not found\n",
      "aklavik ID: 5882953 found! Appending stats\n",
      "pevek ID: 2122090 found! Appending stats\n",
      "torbat-e jam ID: 1159362 found! Appending stats\n",
      "ilulissat ID: 3423146 found! Appending stats\n",
      "aleksandrovskoye ID: 582993 found! Appending stats\n",
      "saint george ID: 5546220 found! Appending stats\n",
      "sobolevo ID: 525426 found! Appending stats\n",
      "clarence town ID: 2171465 found! Appending stats\n",
      "kutum ID: 371745 found! Appending stats\n",
      "dubbo ID: 2168305 found! Appending stats\n",
      "kwinana ID: 2068079 found! Appending stats\n",
      "abu samrah ID: 172515 found! Appending stats\n",
      "victoria ID: 1819729 found! Appending stats\n",
      "craig ID: 5576064 found! Appending stats\n",
      "inuvik ID: 5983607 found! Appending stats\n",
      "oussouye ID: 2246901 found! Appending stats\n",
      "ishigaki ID: 1861416 found! Appending stats\n",
      "verkhnetulomskiy ID: 475469 found! Appending stats\n",
      "denpasar ID: 1645528 found! Appending stats\n",
      "poum ID: 2138555 found! Appending stats\n",
      "novooleksiyivka ID: 699706 found! Appending stats\n",
      "hofn ID: 2630299 found! Appending stats\n",
      "beloha ID: 1067565 found! Appending stats\n",
      "araure ID: 3649017 found! Appending stats\n",
      "praya ID: 3374333 found! Appending stats\n",
      "lagoa ID: 3372964 found! Appending stats\n",
      "codrington ID: 2171099 found! Appending stats\n",
      "ketchikan ID: 5554428 found! Appending stats\n",
      "kodiak ID: 5866583 found! Appending stats\n",
      "faanui ID: 4034551 found! Appending stats\n",
      "san jose ID: 5392171 found! Appending stats\n",
      "yellowknife ID: 6185377 found! Appending stats\n",
      "tarko-sale ID: 1490085 found! Appending stats\n",
      "karasjok ID: 779350 found! Appending stats\n",
      "sur ID: 286245 found! Appending stats\n",
      "grand gaube ID: 934479 found! Appending stats\n",
      "alhaurin el grande ID: 2521985 found! Appending stats\n",
      "maralal ID: 187725 found! Appending stats\n",
      "fortuna ID: 5563839 found! Appending stats\n",
      "jequie ID: 3459943 found! Appending stats\n",
      "mineros ID: 3910343 found! Appending stats\n",
      "City not found\n",
      "baykit ID: 1510689 found! Appending stats\n",
      "the hammocks ID: 4175117 found! Appending stats\n",
      "asfi ID: 2537881 found! Appending stats\n",
      "havoysund ID: 779622 found! Appending stats\n",
      "isangel ID: 2136825 found! Appending stats\n",
      "tasiilaq ID: 3424607 found! Appending stats\n",
      "selma ID: 5394329 found! Appending stats\n",
      "tura ID: 1254046 found! Appending stats\n",
      "City not found\n",
      "komsomolskiy ID: 1513491 found! Appending stats\n",
      "City not found\n",
      "mayo ID: 4362001 found! Appending stats\n",
      "airai ID: 1651810 found! Appending stats\n",
      "namibe ID: 3347019 found! Appending stats\n",
      "vestmannaeyjar ID: 3412093 found! Appending stats\n",
      "georgetown ID: 1735106 found! Appending stats\n",
      "flinders ID: 6255012 found! Appending stats\n",
      "cockburn town ID: 3576994 found! Appending stats\n",
      "ostrovnoy ID: 556268 found! Appending stats\n",
      "valparaiso ID: 3868626 found! Appending stats\n",
      "lompoc ID: 5367788 found! Appending stats\n",
      "brownsville ID: 4676740 found! Appending stats\n",
      "srandakan ID: 1626493 found! Appending stats\n",
      "seoul ID: 1835848 found! Appending stats\n",
      "persianovskiy ID: 518970 found! Appending stats\n",
      "City not found\n",
      "cuiluan ID: 2033413 found! Appending stats\n",
      "kwekwe ID: 888710 found! Appending stats\n",
      "chake chake ID: 160677 found! Appending stats\n",
      "yeniseysk ID: 1485997 found! Appending stats\n",
      "mapiripan ID: 3792394 found! Appending stats\n",
      "guane ID: 3557758 found! Appending stats\n",
      "belinskiy ID: 578045 found! Appending stats\n",
      "mildura ID: 2157698 found! Appending stats\n",
      "nabire ID: 1634614 found! Appending stats\n",
      "sao miguel do araguaia ID: 3448455 found! Appending stats\n",
      "mocuba ID: 1024312 found! Appending stats\n",
      "City not found\n",
      "lata ID: 2738381 found! Appending stats\n",
      "City not found\n",
      "biak ID: 1637001 found! Appending stats\n",
      "bentiu ID: 377472 found! Appending stats\n",
      "pudozh ID: 504269 found! Appending stats\n",
      "pangkalanbuun ID: 1632694 found! Appending stats\n",
      "verdikoussa ID: 252030 found! Appending stats\n",
      "turukhansk ID: 1488903 found! Appending stats\n",
      "yeppoon ID: 2142316 found! Appending stats\n",
      "lincoln ID: 5072006 found! Appending stats\n",
      "acari ID: 3948613 found! Appending stats\n",
      "letnyaya stavka ID: 535605 found! Appending stats\n",
      "robertsport ID: 2274275 found! Appending stats\n",
      "marawi ID: 1701054 found! Appending stats\n",
      "qaqortoq ID: 3420846 found! Appending stats\n",
      "amapa ID: 3407762 found! Appending stats\n",
      "pontianak ID: 1630789 found! Appending stats\n",
      "caborca ID: 3996893 found! Appending stats\n",
      "verkhniy baskunchak ID: 475196 found! Appending stats\n",
      "City not found\n",
      "dingtao ID: 1812754 found! Appending stats\n",
      "awjilah ID: 88533 found! Appending stats\n",
      "bonoua ID: 2291087 found! Appending stats\n",
      "bethel ID: 5282297 found! Appending stats\n",
      "anadyr ID: 2127202 found! Appending stats\n",
      "tessalit ID: 2449893 found! Appending stats\n",
      "san ignacio ID: 3581194 found! Appending stats\n",
      "City not found\n",
      "waingapu ID: 1622318 found! Appending stats\n",
      "shimoda ID: 1852357 found! Appending stats\n",
      "turka ID: 690960 found! Appending stats\n",
      "port lincoln ID: 2063036 found! Appending stats\n",
      "nanortalik ID: 3421765 found! Appending stats\n",
      "namatanai ID: 2090021 found! Appending stats\n",
      "lubbock ID: 5525584 found! Appending stats\n",
      "vinkovci ID: 3187719 found! Appending stats\n",
      "nemours ID: 2990793 found! Appending stats\n",
      "kismayo ID: 55671 found! Appending stats\n",
      "quatre cocos ID: 1106643 found! Appending stats\n",
      "ust-donetskiy ID: 478132 found! Appending stats\n",
      "harper ID: 2276492 found! Appending stats\n",
      "sarab ID: 126972 found! Appending stats\n",
      "vanavara ID: 2013727 found! Appending stats\n",
      "egvekinot ID: 4031742 found! Appending stats\n",
      "bucerias ID: 4016734 found! Appending stats\n",
      "sinjar ID: 448149 found! Appending stats\n",
      "asahikawa ID: 2130629 found! Appending stats\n",
      "miri ID: 1738050 found! Appending stats\n",
      "solnechnyy ID: 2016307 found! Appending stats\n",
      "kirgiz-miyaki ID: 548493 found! Appending stats\n",
      "karratha ID: 6620339 found! Appending stats\n",
      "tsabong ID: 932987 found! Appending stats\n",
      "City not found\n",
      "okhotsk ID: 2122605 found! Appending stats\n",
      "tuatapere ID: 2180815 found! Appending stats\n",
      "sisimiut ID: 3419842 found! Appending stats\n",
      "kalevala ID: 554318 found! Appending stats\n",
      "saint anthony ID: 5044290 found! Appending stats\n",
      "korla ID: 1529376 found! Appending stats\n",
      "sao joao da barra ID: 3448903 found! Appending stats\n",
      "russell ID: 4047434 found! Appending stats\n",
      "sao filipe ID: 3374210 found! Appending stats\n",
      "baruun-urt ID: 2032614 found! Appending stats\n",
      "cap-aux-meules ID: 5915327 found! Appending stats\n",
      "port-gentil ID: 2396518 found! Appending stats\n",
      "kaoma ID: 913323 found! Appending stats\n",
      "rovnoye ID: 501091 found! Appending stats\n",
      "palasa ID: 1260771 found! Appending stats\n",
      "oksfjord ID: 778362 found! Appending stats\n",
      "City not found\n",
      "bjornevatn ID: 780643 found! Appending stats\n",
      "vila velha ID: 3445026 found! Appending stats\n",
      "vestmanna ID: 2610343 found! Appending stats\n",
      "severnyy-kospashskiy ID: 496307 found! Appending stats\n",
      "hermosillo ID: 4004898 found! Appending stats\n",
      "liaozhong ID: 2036106 found! Appending stats\n",
      "elliot ID: 1005781 found! Appending stats\n",
      "sergeyevka ID: 1519385 found! Appending stats\n",
      "farafangana ID: 1065158 found! Appending stats\n",
      "padang ID: 1633419 found! Appending stats\n",
      "bundaberg ID: 2173323 found! Appending stats\n",
      "phangnga ID: 1151464 found! Appending stats\n",
      "thinadhoo ID: 1337610 found! Appending stats\n",
      "City not found\n",
      "san quintin ID: 3984997 found! Appending stats\n",
      "iwanai ID: 2129868 found! Appending stats\n",
      "kawalu ID: 1640902 found! Appending stats\n",
      "wilmington ID: 4499379 found! Appending stats\n",
      "umm lajj ID: 100926 found! Appending stats\n",
      "luzhou ID: 1801640 found! Appending stats\n",
      "City not found\n",
      "laem sing ID: 1609278 found! Appending stats\n",
      "City not found\n",
      "sumkino ID: 1490655 found! Appending stats\n",
      "claymont ID: 4141974 found! Appending stats\n",
      "makokou ID: 2399371 found! Appending stats\n",
      "laguna ID: 5364271 found! Appending stats\n",
      "pemangkat ID: 1631637 found! Appending stats\n",
      "kulob ID: 1221194 found! Appending stats\n",
      "ayagoz ID: 1525988 found! Appending stats\n"
     ]
    },
    {
     "name": "stdout",
     "output_type": "stream",
     "text": [
      "rybachiy ID: 472757 found! Appending stats\n",
      "zacualpan ID: 3979819 found! Appending stats\n",
      "salinopolis ID: 3389822 found! Appending stats\n",
      "ust-kulom ID: 478050 found! Appending stats\n",
      "saint john ID: 6138517 found! Appending stats\n",
      "buala ID: 2109528 found! Appending stats\n",
      "bitung ID: 1648636 found! Appending stats\n",
      "samoded ID: 499025 found! Appending stats\n",
      "port moresby ID: 2088122 found! Appending stats\n",
      "huarmey ID: 3939168 found! Appending stats\n",
      "hohhot ID: 2036892 found! Appending stats\n",
      "City not found\n",
      "vila franca do campo ID: 3372472 found! Appending stats\n",
      "hasaki ID: 2112802 found! Appending stats\n",
      "alice springs ID: 2077895 found! Appending stats\n",
      "kuching ID: 1735634 found! Appending stats\n",
      "puri ID: 1259184 found! Appending stats\n",
      "souillac ID: 933995 found! Appending stats\n",
      "idrinskoye ID: 1505998 found! Appending stats\n",
      "pringsewu ID: 1630639 found! Appending stats\n",
      "coolum beach ID: 2170581 found! Appending stats\n",
      "bailieborough ID: 2966796 found! Appending stats\n",
      "kaduqli ID: 373141 found! Appending stats\n",
      "pangoa ID: 3933104 found! Appending stats\n",
      "becerril ID: 3689026 found! Appending stats\n",
      "ambovombe ID: 1079048 found! Appending stats\n",
      "City not found\n",
      "dachau ID: 2939623 found! Appending stats\n",
      "yumen ID: 1528998 found! Appending stats\n",
      "taoudenni ID: 2450173 found! Appending stats\n",
      "krasnoselkup ID: 1502073 found! Appending stats\n",
      "bathsheba ID: 3374083 found! Appending stats\n",
      "wanning ID: 1791779 found! Appending stats\n",
      "bossangoa ID: 2388036 found! Appending stats\n",
      "ngama ID: 2427036 found! Appending stats\n",
      "hwange ID: 889942 found! Appending stats\n",
      "City not found\n",
      "majene ID: 1636806 found! Appending stats\n",
      "uray ID: 1488429 found! Appending stats\n",
      "tonj ID: 365763 found! Appending stats\n",
      "nouadhibou ID: 2377457 found! Appending stats\n",
      "doka ID: 376332 found! Appending stats\n",
      "City not found\n",
      "laurel ID: 4360369 found! Appending stats\n",
      "hokitika ID: 2206894 found! Appending stats\n",
      "paliyad ID: 1260706 found! Appending stats\n",
      "guerrero negro ID: 4021858 found! Appending stats\n",
      "slave lake ID: 6149374 found! Appending stats\n",
      "City not found\n",
      "vung tau ID: 1562414 found! Appending stats\n",
      "greenville ID: 4469160 found! Appending stats\n",
      "City not found\n",
      "mikkeli ID: 646005 found! Appending stats\n",
      "batagay ID: 2027044 found! Appending stats\n",
      "chatellerault ID: 3026141 found! Appending stats\n",
      "bayir ID: 304183 found! Appending stats\n",
      "abu kamal ID: 174448 found! Appending stats\n",
      "City not found\n",
      "nizwa ID: 286987 found! Appending stats\n",
      "viransehir ID: 298033 found! Appending stats\n",
      "molde ID: 3145580 found! Appending stats\n",
      "coihaique ID: 3894426 found! Appending stats\n",
      "vardo ID: 777019 found! Appending stats\n",
      "chumikan ID: 2025256 found! Appending stats\n",
      "ixtapa ID: 4004293 found! Appending stats\n",
      "vanimo ID: 2084442 found! Appending stats\n",
      "zhongshu ID: 1784310 found! Appending stats\n",
      "roald ID: 3141667 found! Appending stats\n",
      "chelno-vershiny ID: 569497 found! Appending stats\n",
      "atasu ID: 1526041 found! Appending stats\n",
      "abu dhabi ID: 292968 found! Appending stats\n",
      "magalia ID: 5369690 found! Appending stats\n",
      "tres arroyos ID: 3833859 found! Appending stats\n",
      "petatlan ID: 3992842 found! Appending stats\n",
      "el sauzal ID: 4007503 found! Appending stats\n",
      "salalah ID: 286621 found! Appending stats\n",
      "sinnamary ID: 3380290 found! Appending stats\n",
      "boyolangu ID: 1648082 found! Appending stats\n",
      "balikpapan ID: 1650527 found! Appending stats\n",
      "kidal ID: 2455290 found! Appending stats\n",
      "toyooka ID: 1849831 found! Appending stats\n",
      "longyearbyen ID: 2729907 found! Appending stats\n",
      "pacific grove ID: 5380437 found! Appending stats\n",
      "City not found\n",
      "whyalla ID: 2058430 found! Appending stats\n",
      "menongue ID: 3347353 found! Appending stats\n",
      "husavik ID: 2629833 found! Appending stats\n",
      "le pont-de-claix ID: 3002585 found! Appending stats\n",
      "mahanoro ID: 1062553 found! Appending stats\n",
      "vaitape ID: 4033077 found! Appending stats\n",
      "beringovskiy ID: 2126710 found! Appending stats\n",
      "pemex ID: 3515200 found! Appending stats\n",
      "tanete ID: 1629965 found! Appending stats\n",
      "sepuka ID: 150099 found! Appending stats\n",
      "City not found\n",
      "udachnyy ID: 2014624 found! Appending stats\n",
      "patur ID: 1260035 found! Appending stats\n",
      "huilong ID: 1806840 found! Appending stats\n",
      "vostok ID: 2013279 found! Appending stats\n",
      "City not found\n",
      "walvis bay ID: 3359638 found! Appending stats\n",
      "okha ID: 2122614 found! Appending stats\n",
      "alofi ID: 4036284 found! Appending stats\n",
      "dillon ID: 4576653 found! Appending stats\n",
      "inhambane ID: 1045114 found! Appending stats\n",
      "broken hill ID: 2173911 found! Appending stats\n",
      "iqaluit ID: 5983720 found! Appending stats\n",
      "zhigansk ID: 2012530 found! Appending stats\n",
      "richards bay ID: 962367 found! Appending stats\n",
      "dodge city ID: 5445298 found! Appending stats\n",
      "whitehorse ID: 6180550 found! Appending stats\n",
      "nanakuli ID: 5851349 found! Appending stats\n",
      "kaeo ID: 2189343 found! Appending stats\n",
      "rundu ID: 3353383 found! Appending stats\n",
      "arman ID: 2127060 found! Appending stats\n",
      "poronaysk ID: 2121909 found! Appending stats\n",
      "balkhash ID: 1525798 found! Appending stats\n",
      "zhezkazgan ID: 1516589 found! Appending stats\n",
      "fairbanks ID: 5861897 found! Appending stats\n",
      "sangar ID: 2017215 found! Appending stats\n",
      "trebisacce ID: 2522867 found! Appending stats\n",
      "kanniyakumari ID: 1268008 found! Appending stats\n",
      "pedasi ID: 3703239 found! Appending stats\n",
      "waltershausen ID: 2814392 found! Appending stats\n",
      "City not found\n",
      "ormara ID: 1168700 found! Appending stats\n",
      "City not found\n",
      "City not found\n",
      "City not found\n",
      "lagos ID: 2332453 found! Appending stats\n",
      "City not found\n",
      "tazovskiy ID: 1489853 found! Appending stats\n",
      "kholodnyy ID: 2124611 found! Appending stats\n",
      "bakhmach ID: 712967 found! Appending stats\n",
      "hamilton ID: 4513583 found! Appending stats\n",
      "asau ID: 686090 found! Appending stats\n",
      "dzaoudzi ID: 921900 found! Appending stats\n",
      "yakymivka ID: 713743 found! Appending stats\n",
      "ayorou ID: 2447416 found! Appending stats\n",
      "caconda ID: 3351380 found! Appending stats\n",
      "chifeng ID: 2038067 found! Appending stats\n",
      "City not found\n",
      "dali ID: 1814093 found! Appending stats\n",
      "kotel ID: 730073 found! Appending stats\n",
      "eureka ID: 5563397 found! Appending stats\n",
      "lorengau ID: 2092164 found! Appending stats\n",
      "jacareacanga ID: 3397763 found! Appending stats\n",
      "boa vista ID: 3664980 found! Appending stats\n",
      "pergine valsugana ID: 6536242 found! Appending stats\n",
      "kulu ID: 305742 found! Appending stats\n",
      "riviere-au-renard ID: 6943832 found! Appending stats\n",
      "hervey bay ID: 2146219 found! Appending stats\n",
      "khandyga ID: 2022773 found! Appending stats\n",
      "sarangani ID: 1687186 found! Appending stats\n",
      "safranbolu ID: 740430 found! Appending stats\n",
      "stilfontein ID: 952192 found! Appending stats\n",
      "imbituba ID: 3461370 found! Appending stats\n",
      "yar-sale ID: 1486321 found! Appending stats\n",
      "camopi ID: 3382226 found! Appending stats\n",
      "suihua ID: 2034655 found! Appending stats\n",
      "trinidad ID: 3902377 found! Appending stats\n",
      "oktyabrskiy ID: 515879 found! Appending stats\n",
      "galveston ID: 4692856 found! Appending stats\n",
      "marsa matruh ID: 352733 found! Appending stats\n",
      "deputatskiy ID: 2028164 found! Appending stats\n",
      "pahrump ID: 5509851 found! Appending stats\n",
      "kalachinsk ID: 1505074 found! Appending stats\n",
      "labuan ID: 1733782 found! Appending stats\n",
      "qurayyat ID: 108648 found! Appending stats\n",
      "mana ID: 3381041 found! Appending stats\n",
      "samana ID: 3492997 found! Appending stats\n",
      "nome ID: 5870133 found! Appending stats\n",
      "terme ID: 738803 found! Appending stats\n",
      "catamarca ID: 3837702 found! Appending stats\n",
      "mbulu ID: 154313 found! Appending stats\n",
      "kushiro ID: 2129376 found! Appending stats\n",
      "foz do iguacu ID: 3463030 found! Appending stats\n",
      "marsaxlokk ID: 2562247 found! Appending stats\n",
      "viedma ID: 3832899 found! Appending stats\n",
      "ndele ID: 237379 found! Appending stats\n",
      "albufeira ID: 2272222 found! Appending stats\n",
      "azul ID: 3436199 found! Appending stats\n",
      "villa carlos paz ID: 3832791 found! Appending stats\n",
      "City not found\n",
      "City not found\n",
      "evensk ID: 2125693 found! Appending stats\n",
      "clyde river ID: 5924351 found! Appending stats\n",
      "nehe ID: 2035610 found! Appending stats\n",
      "nemuro ID: 2128975 found! Appending stats\n",
      "oistins ID: 3373652 found! Appending stats\n",
      "City not found\n",
      "santa fe ID: 3836277 found! Appending stats\n",
      "kiama ID: 2161515 found! Appending stats\n",
      "podporozhye ID: 508034 found! Appending stats\n",
      "suntar ID: 2015913 found! Appending stats\n",
      "voronezhskaya ID: 472041 found! Appending stats\n",
      "mufulira ID: 905395 found! Appending stats\n",
      "sioux lookout ID: 6148373 found! Appending stats\n",
      "City not found\n",
      "goderich ID: 5962442 found! Appending stats\n"
     ]
    },
    {
     "name": "stdout",
     "output_type": "stream",
     "text": [
      "usinsk ID: 863061 found! Appending stats\n",
      "turbat ID: 1163054 found! Appending stats\n",
      "puerto el triunfo ID: 3584003 found! Appending stats\n",
      "basoko ID: 219414 found! Appending stats\n",
      "lima ID: 3936456 found! Appending stats\n",
      "soavinandriana ID: 1056151 found! Appending stats\n",
      "porto novo ID: 2392087 found! Appending stats\n",
      "lucea ID: 3489657 found! Appending stats\n",
      "sovetskaya gavan ID: 2121052 found! Appending stats\n",
      "hualmay ID: 3939761 found! Appending stats\n",
      "omboue ID: 2396853 found! Appending stats\n",
      "sainte-marie ID: 935255 found! Appending stats\n",
      "krasnovishersk ID: 542184 found! Appending stats\n",
      "nishihara ID: 1855342 found! Appending stats\n",
      "aasiaat ID: 3424901 found! Appending stats\n",
      "dwarka ID: 1272140 found! Appending stats\n",
      "abay ID: 1526970 found! Appending stats\n",
      "college ID: 5859699 found! Appending stats\n",
      "kuito ID: 3348078 found! Appending stats\n"
     ]
    }
   ],
   "source": [
    "url = \"http://api.openweathermap.org/data/2.5/weather?\"\n",
    "units = \"metric\"\n",
    "temp_max=[]    \n",
    "humidity=[]       \n",
    "wind=[]\n",
    "cloudiness=[]\n",
    "new_city=[]\n",
    "latitude=[]\n",
    "longitude=[]\n",
    "country=[]\n",
    "date=[]\n",
    "\n",
    "city_counter=0\n",
    "\n",
    "for city in cities:\n",
    "    # Build partial query URL\n",
    "    \n",
    "    query_url = f\"{url}appid={weather_api_key}&units={units}&q=\"\n",
    "    response = requests.get(query_url + city).json()\n",
    "    try:\n",
    "        temp_max.append(response['main']['temp_max'])\n",
    "        humidity.append(response['main']['humidity'])\n",
    "        wind.append(response['wind']['speed'])\n",
    "        cloudiness.append(response['clouds']['all'])\n",
    "        new_city.append(response['name'])\n",
    "        country.append(response['sys']['country'])\n",
    "        date.append(response['dt'])\n",
    "        latitude.append(response['coord']['lat'])\n",
    "        longitude.append(response['coord']['lon'])\n",
    "        print(f\"{city} ID: {response['id']} found! Appending stats\")\n",
    "\n",
    "        # Handle exceptions for a city that is not available in the Openweather API\n",
    "    except:\n",
    "        # Append null values\n",
    "        print(\"City not found\")\n",
    "        pass\n"
   ]
  },
  {
   "cell_type": "markdown",
   "metadata": {},
   "source": [
    "### Convert Raw Data to DataFrame\n",
    "* Export the city data into a .csv.\n",
    "* Display the DataFrame"
   ]
  },
  {
   "cell_type": "code",
   "execution_count": 40,
   "metadata": {},
   "outputs": [
    {
     "data": {
      "text/plain": [
       "{'coord': {'lon': 16.9333, 'lat': -12.3833},\n",
       " 'weather': [{'id': 501,\n",
       "   'main': 'Rain',\n",
       "   'description': 'moderate rain',\n",
       "   'icon': '10n'}],\n",
       " 'base': 'stations',\n",
       " 'main': {'temp': 15.47,\n",
       "  'feels_like': 15.61,\n",
       "  'temp_min': 15.47,\n",
       "  'temp_max': 15.47,\n",
       "  'pressure': 1014,\n",
       "  'humidity': 97,\n",
       "  'sea_level': 1014,\n",
       "  'grnd_level': 831},\n",
       " 'visibility': 10000,\n",
       " 'wind': {'speed': 1.39, 'deg': 230, 'gust': 4.16},\n",
       " 'rain': {'1h': 1.94},\n",
       " 'clouds': {'all': 100},\n",
       " 'dt': 1643315801,\n",
       " 'sys': {'country': 'AO', 'sunrise': 1643258666, 'sunset': 1643304317},\n",
       " 'timezone': 3600,\n",
       " 'id': 3348078,\n",
       " 'name': 'Kuito',\n",
       " 'cod': 200}"
      ]
     },
     "execution_count": 40,
     "metadata": {},
     "output_type": "execute_result"
    }
   ],
   "source": [
    "response"
   ]
  },
  {
   "cell_type": "code",
   "execution_count": 41,
   "metadata": {},
   "outputs": [
    {
     "name": "stdout",
     "output_type": "stream",
     "text": [
      "The city count is 561\n",
      "The latitude count is 561\n",
      "The longitude count is 561\n",
      "The max temp count is 561\n",
      "The humidity count is 561\n",
      "The wind count is 561\n",
      "The country count is 561\n",
      "The date count is 561\n"
     ]
    }
   ],
   "source": [
    "\n",
    "print(f'The city count is {len(new_city)}')\n",
    "print(f'The latitude count is {len(latitude)}')\n",
    "print(f'The longitude count is {len(longitude)}')\n",
    "print(f'The max temp count is {len(temp_max)}')\n",
    "print(f'The humidity count is {len(humidity)}')\n",
    "print(f'The wind count is {len(wind)}')\n",
    "print(f'The country count is {len(country)}')\n",
    "print(f'The date count is {len(date)}')\n"
   ]
  },
  {
   "cell_type": "code",
   "execution_count": 42,
   "metadata": {},
   "outputs": [
    {
     "data": {
      "text/html": [
       "<div>\n",
       "<style scoped>\n",
       "    .dataframe tbody tr th:only-of-type {\n",
       "        vertical-align: middle;\n",
       "    }\n",
       "\n",
       "    .dataframe tbody tr th {\n",
       "        vertical-align: top;\n",
       "    }\n",
       "\n",
       "    .dataframe thead th {\n",
       "        text-align: right;\n",
       "    }\n",
       "</style>\n",
       "<table border=\"1\" class=\"dataframe\">\n",
       "  <thead>\n",
       "    <tr style=\"text-align: right;\">\n",
       "      <th></th>\n",
       "      <th>City</th>\n",
       "      <th>Lat</th>\n",
       "      <th>Lng</th>\n",
       "      <th>Max Temp</th>\n",
       "      <th>Humidity</th>\n",
       "      <th>Cloudiness</th>\n",
       "      <th>Wind Speed</th>\n",
       "      <th>Country</th>\n",
       "      <th>Date</th>\n",
       "    </tr>\n",
       "  </thead>\n",
       "  <tbody>\n",
       "    <tr>\n",
       "      <th>0</th>\n",
       "      <td>Maceió</td>\n",
       "      <td>-9.6658</td>\n",
       "      <td>-35.7353</td>\n",
       "      <td>29.69</td>\n",
       "      <td>65</td>\n",
       "      <td>40</td>\n",
       "      <td>5.14</td>\n",
       "      <td>BR</td>\n",
       "      <td>1643315576</td>\n",
       "    </tr>\n",
       "    <tr>\n",
       "      <th>1</th>\n",
       "      <td>Severo-Kuril'sk</td>\n",
       "      <td>50.6789</td>\n",
       "      <td>156.1250</td>\n",
       "      <td>-3.70</td>\n",
       "      <td>74</td>\n",
       "      <td>96</td>\n",
       "      <td>15.49</td>\n",
       "      <td>RU</td>\n",
       "      <td>1643315576</td>\n",
       "    </tr>\n",
       "    <tr>\n",
       "      <th>2</th>\n",
       "      <td>Beyneu</td>\n",
       "      <td>45.3167</td>\n",
       "      <td>55.2000</td>\n",
       "      <td>-0.62</td>\n",
       "      <td>90</td>\n",
       "      <td>100</td>\n",
       "      <td>3.64</td>\n",
       "      <td>KZ</td>\n",
       "      <td>1643315577</td>\n",
       "    </tr>\n",
       "    <tr>\n",
       "      <th>3</th>\n",
       "      <td>Arraial do Cabo</td>\n",
       "      <td>-22.9661</td>\n",
       "      <td>-42.0278</td>\n",
       "      <td>30.98</td>\n",
       "      <td>61</td>\n",
       "      <td>0</td>\n",
       "      <td>7.20</td>\n",
       "      <td>BR</td>\n",
       "      <td>1643315577</td>\n",
       "    </tr>\n",
       "    <tr>\n",
       "      <th>4</th>\n",
       "      <td>Auki</td>\n",
       "      <td>-8.7676</td>\n",
       "      <td>160.7034</td>\n",
       "      <td>25.73</td>\n",
       "      <td>88</td>\n",
       "      <td>100</td>\n",
       "      <td>3.28</td>\n",
       "      <td>SB</td>\n",
       "      <td>1643315578</td>\n",
       "    </tr>\n",
       "    <tr>\n",
       "      <th>5</th>\n",
       "      <td>Ledyard Center</td>\n",
       "      <td>41.4398</td>\n",
       "      <td>-72.0142</td>\n",
       "      <td>-1.95</td>\n",
       "      <td>48</td>\n",
       "      <td>0</td>\n",
       "      <td>1.79</td>\n",
       "      <td>US</td>\n",
       "      <td>1643315437</td>\n",
       "    </tr>\n",
       "    <tr>\n",
       "      <th>6</th>\n",
       "      <td>Khatanga</td>\n",
       "      <td>71.9667</td>\n",
       "      <td>102.5000</td>\n",
       "      <td>-13.92</td>\n",
       "      <td>87</td>\n",
       "      <td>100</td>\n",
       "      <td>8.29</td>\n",
       "      <td>RU</td>\n",
       "      <td>1643315578</td>\n",
       "    </tr>\n",
       "    <tr>\n",
       "      <th>7</th>\n",
       "      <td>Chokurdakh</td>\n",
       "      <td>70.6333</td>\n",
       "      <td>147.9167</td>\n",
       "      <td>-31.38</td>\n",
       "      <td>93</td>\n",
       "      <td>64</td>\n",
       "      <td>5.39</td>\n",
       "      <td>RU</td>\n",
       "      <td>1643315309</td>\n",
       "    </tr>\n",
       "    <tr>\n",
       "      <th>8</th>\n",
       "      <td>Vaini</td>\n",
       "      <td>-21.2000</td>\n",
       "      <td>-175.2000</td>\n",
       "      <td>27.54</td>\n",
       "      <td>81</td>\n",
       "      <td>96</td>\n",
       "      <td>7.14</td>\n",
       "      <td>TO</td>\n",
       "      <td>1643315313</td>\n",
       "    </tr>\n",
       "    <tr>\n",
       "      <th>9</th>\n",
       "      <td>Hobart</td>\n",
       "      <td>-42.8794</td>\n",
       "      <td>147.3294</td>\n",
       "      <td>22.28</td>\n",
       "      <td>78</td>\n",
       "      <td>0</td>\n",
       "      <td>1.34</td>\n",
       "      <td>AU</td>\n",
       "      <td>1643315449</td>\n",
       "    </tr>\n",
       "    <tr>\n",
       "      <th>10</th>\n",
       "      <td>Meulaboh</td>\n",
       "      <td>4.1363</td>\n",
       "      <td>96.1285</td>\n",
       "      <td>24.65</td>\n",
       "      <td>89</td>\n",
       "      <td>85</td>\n",
       "      <td>1.26</td>\n",
       "      <td>ID</td>\n",
       "      <td>1643315579</td>\n",
       "    </tr>\n",
       "    <tr>\n",
       "      <th>11</th>\n",
       "      <td>Bredasdorp</td>\n",
       "      <td>-34.5322</td>\n",
       "      <td>20.0403</td>\n",
       "      <td>20.62</td>\n",
       "      <td>73</td>\n",
       "      <td>6</td>\n",
       "      <td>1.54</td>\n",
       "      <td>ZA</td>\n",
       "      <td>1643315580</td>\n",
       "    </tr>\n",
       "    <tr>\n",
       "      <th>12</th>\n",
       "      <td>Vao</td>\n",
       "      <td>-22.6667</td>\n",
       "      <td>167.4833</td>\n",
       "      <td>26.40</td>\n",
       "      <td>83</td>\n",
       "      <td>54</td>\n",
       "      <td>8.52</td>\n",
       "      <td>NC</td>\n",
       "      <td>1643315580</td>\n",
       "    </tr>\n",
       "    <tr>\n",
       "      <th>13</th>\n",
       "      <td>Bismarck</td>\n",
       "      <td>46.8083</td>\n",
       "      <td>-100.7837</td>\n",
       "      <td>-6.74</td>\n",
       "      <td>67</td>\n",
       "      <td>0</td>\n",
       "      <td>1.34</td>\n",
       "      <td>US</td>\n",
       "      <td>1643315527</td>\n",
       "    </tr>\n",
       "    <tr>\n",
       "      <th>14</th>\n",
       "      <td>Torbay</td>\n",
       "      <td>47.6666</td>\n",
       "      <td>-52.7314</td>\n",
       "      <td>-4.23</td>\n",
       "      <td>92</td>\n",
       "      <td>100</td>\n",
       "      <td>6.17</td>\n",
       "      <td>CA</td>\n",
       "      <td>1643315455</td>\n",
       "    </tr>\n",
       "    <tr>\n",
       "      <th>15</th>\n",
       "      <td>Tilichiki</td>\n",
       "      <td>60.4667</td>\n",
       "      <td>166.1000</td>\n",
       "      <td>-3.03</td>\n",
       "      <td>81</td>\n",
       "      <td>100</td>\n",
       "      <td>14.98</td>\n",
       "      <td>RU</td>\n",
       "      <td>1643315581</td>\n",
       "    </tr>\n",
       "    <tr>\n",
       "      <th>16</th>\n",
       "      <td>Kununurra</td>\n",
       "      <td>-15.7667</td>\n",
       "      <td>128.7333</td>\n",
       "      <td>25.99</td>\n",
       "      <td>89</td>\n",
       "      <td>100</td>\n",
       "      <td>1.54</td>\n",
       "      <td>AU</td>\n",
       "      <td>1643315582</td>\n",
       "    </tr>\n",
       "    <tr>\n",
       "      <th>17</th>\n",
       "      <td>Zaranj</td>\n",
       "      <td>30.9667</td>\n",
       "      <td>61.8833</td>\n",
       "      <td>6.98</td>\n",
       "      <td>33</td>\n",
       "      <td>0</td>\n",
       "      <td>3.32</td>\n",
       "      <td>AF</td>\n",
       "      <td>1643315582</td>\n",
       "    </tr>\n",
       "    <tr>\n",
       "      <th>18</th>\n",
       "      <td>East London</td>\n",
       "      <td>-33.0153</td>\n",
       "      <td>27.9116</td>\n",
       "      <td>23.68</td>\n",
       "      <td>90</td>\n",
       "      <td>10</td>\n",
       "      <td>6.09</td>\n",
       "      <td>ZA</td>\n",
       "      <td>1643315417</td>\n",
       "    </tr>\n",
       "    <tr>\n",
       "      <th>19</th>\n",
       "      <td>Grande Prairie</td>\n",
       "      <td>55.1667</td>\n",
       "      <td>-118.8027</td>\n",
       "      <td>-4.90</td>\n",
       "      <td>86</td>\n",
       "      <td>40</td>\n",
       "      <td>1.03</td>\n",
       "      <td>CA</td>\n",
       "      <td>1643315285</td>\n",
       "    </tr>\n",
       "  </tbody>\n",
       "</table>\n",
       "</div>"
      ],
      "text/plain": [
       "               City      Lat       Lng  Max Temp  Humidity  Cloudiness  \\\n",
       "0            Maceió  -9.6658  -35.7353     29.69        65          40   \n",
       "1   Severo-Kuril'sk  50.6789  156.1250     -3.70        74          96   \n",
       "2            Beyneu  45.3167   55.2000     -0.62        90         100   \n",
       "3   Arraial do Cabo -22.9661  -42.0278     30.98        61           0   \n",
       "4              Auki  -8.7676  160.7034     25.73        88         100   \n",
       "5    Ledyard Center  41.4398  -72.0142     -1.95        48           0   \n",
       "6          Khatanga  71.9667  102.5000    -13.92        87         100   \n",
       "7        Chokurdakh  70.6333  147.9167    -31.38        93          64   \n",
       "8             Vaini -21.2000 -175.2000     27.54        81          96   \n",
       "9            Hobart -42.8794  147.3294     22.28        78           0   \n",
       "10         Meulaboh   4.1363   96.1285     24.65        89          85   \n",
       "11       Bredasdorp -34.5322   20.0403     20.62        73           6   \n",
       "12              Vao -22.6667  167.4833     26.40        83          54   \n",
       "13         Bismarck  46.8083 -100.7837     -6.74        67           0   \n",
       "14           Torbay  47.6666  -52.7314     -4.23        92         100   \n",
       "15        Tilichiki  60.4667  166.1000     -3.03        81         100   \n",
       "16        Kununurra -15.7667  128.7333     25.99        89         100   \n",
       "17           Zaranj  30.9667   61.8833      6.98        33           0   \n",
       "18      East London -33.0153   27.9116     23.68        90          10   \n",
       "19   Grande Prairie  55.1667 -118.8027     -4.90        86          40   \n",
       "\n",
       "    Wind Speed Country        Date  \n",
       "0         5.14      BR  1643315576  \n",
       "1        15.49      RU  1643315576  \n",
       "2         3.64      KZ  1643315577  \n",
       "3         7.20      BR  1643315577  \n",
       "4         3.28      SB  1643315578  \n",
       "5         1.79      US  1643315437  \n",
       "6         8.29      RU  1643315578  \n",
       "7         5.39      RU  1643315309  \n",
       "8         7.14      TO  1643315313  \n",
       "9         1.34      AU  1643315449  \n",
       "10        1.26      ID  1643315579  \n",
       "11        1.54      ZA  1643315580  \n",
       "12        8.52      NC  1643315580  \n",
       "13        1.34      US  1643315527  \n",
       "14        6.17      CA  1643315455  \n",
       "15       14.98      RU  1643315581  \n",
       "16        1.54      AU  1643315582  \n",
       "17        3.32      AF  1643315582  \n",
       "18        6.09      ZA  1643315417  \n",
       "19        1.03      CA  1643315285  "
      ]
     },
     "execution_count": 42,
     "metadata": {},
     "output_type": "execute_result"
    }
   ],
   "source": [
    "#Create new dataframe from the series pulled\n",
    "weather_df=pd.DataFrame(list(zip(new_city,latitude,longitude,temp_max,humidity,cloudiness,wind,country,date)),columns=['City','Lat','Lng','Max Temp','Humidity','Cloudiness','Wind Speed','Country','Date'])\n",
    "#export the city data into a csv\n",
    "weather_df.to_csv(\"../Output/weather.csv\", index=False, header=True)\n",
    "weather_df.head(20)"
   ]
  },
  {
   "cell_type": "markdown",
   "metadata": {},
   "source": [
    "## Inspect the data and remove the cities where the humidity > 100%.\n",
    "----\n",
    "Skip this step if there are no cities that have humidity > 100%. "
   ]
  },
  {
   "cell_type": "code",
   "execution_count": 43,
   "metadata": {},
   "outputs": [
    {
     "data": {
      "text/plain": [
       "City          561\n",
       "Lat           561\n",
       "Lng           561\n",
       "Max Temp      561\n",
       "Humidity      561\n",
       "Cloudiness    561\n",
       "Wind Speed    561\n",
       "Country       561\n",
       "Date          561\n",
       "dtype: int64"
      ]
     },
     "execution_count": 43,
     "metadata": {},
     "output_type": "execute_result"
    }
   ],
   "source": [
    "#show count of rows (records) in new weather dataframe\n",
    "weather_df.count()"
   ]
  },
  {
   "cell_type": "code",
   "execution_count": 44,
   "metadata": {},
   "outputs": [
    {
     "data": {
      "text/plain": [
       "0"
      ]
     },
     "execution_count": 44,
     "metadata": {},
     "output_type": "execute_result"
    }
   ],
   "source": [
    "#create dataframe of cities where humidity is 100 and show a count of the cities \n",
    "humidity100=weather_df.loc[weather_df['Humidity']>100,:]\n",
    "len(humidity100)"
   ]
  },
  {
   "cell_type": "code",
   "execution_count": 45,
   "metadata": {},
   "outputs": [
    {
     "data": {
      "text/html": [
       "<div>\n",
       "<style scoped>\n",
       "    .dataframe tbody tr th:only-of-type {\n",
       "        vertical-align: middle;\n",
       "    }\n",
       "\n",
       "    .dataframe tbody tr th {\n",
       "        vertical-align: top;\n",
       "    }\n",
       "\n",
       "    .dataframe thead th {\n",
       "        text-align: right;\n",
       "    }\n",
       "</style>\n",
       "<table border=\"1\" class=\"dataframe\">\n",
       "  <thead>\n",
       "    <tr style=\"text-align: right;\">\n",
       "      <th></th>\n",
       "      <th>City</th>\n",
       "      <th>Lat</th>\n",
       "      <th>Lng</th>\n",
       "      <th>Max Temp</th>\n",
       "      <th>Humidity</th>\n",
       "      <th>Cloudiness</th>\n",
       "      <th>Wind Speed</th>\n",
       "      <th>Country</th>\n",
       "      <th>Date</th>\n",
       "    </tr>\n",
       "  </thead>\n",
       "  <tbody>\n",
       "  </tbody>\n",
       "</table>\n",
       "</div>"
      ],
      "text/plain": [
       "Empty DataFrame\n",
       "Columns: [City, Lat, Lng, Max Temp, Humidity, Cloudiness, Wind Speed, Country, Date]\n",
       "Index: []"
      ]
     },
     "execution_count": 45,
     "metadata": {},
     "output_type": "execute_result"
    }
   ],
   "source": [
    "#  Get the indices of cities that have humidity over 100%.\n",
    "humidity100"
   ]
  },
  {
   "cell_type": "code",
   "execution_count": 46,
   "metadata": {},
   "outputs": [],
   "source": [
    "# Make a new DataFrame equal to the city data to drop all humidity outliers by index.\n",
    "# Passing \"inplace=False\" will make a copy of the city_data DataFrame, which we call \"clean_city_data\".\n",
    "\n",
    "clean_city_data=weather_df.drop(weather_df[weather_df['Humidity'] > 100].index, inplace = False)    "
   ]
  },
  {
   "cell_type": "code",
   "execution_count": 49,
   "metadata": {},
   "outputs": [
    {
     "data": {
      "text/plain": [
       "0"
      ]
     },
     "execution_count": 49,
     "metadata": {},
     "output_type": "execute_result"
    }
   ],
   "source": [
    "#show cities where humidity is equal to 100 after cleaning dataframe and creating new one \n",
    "humidity100=clean_city_data.loc[clean_city_data['Humidity']>100,:]\n",
    "len(humidity100)"
   ]
  },
  {
   "cell_type": "code",
   "execution_count": 50,
   "metadata": {},
   "outputs": [
    {
     "data": {
      "text/plain": [
       "City          561\n",
       "Lat           561\n",
       "Lng           561\n",
       "Max Temp      561\n",
       "Humidity      561\n",
       "Cloudiness    561\n",
       "Wind Speed    561\n",
       "Country       561\n",
       "Date          561\n",
       "dtype: int64"
      ]
     },
     "execution_count": 50,
     "metadata": {},
     "output_type": "execute_result"
    }
   ],
   "source": [
    "clean_city_data.count()"
   ]
  },
  {
   "cell_type": "markdown",
   "metadata": {},
   "source": [
    "## Plotting the Data\n",
    "* Use proper labeling of the plots using plot titles (including date of analysis) and axes labels.\n",
    "* Save the plotted figures as .pngs."
   ]
  },
  {
   "cell_type": "markdown",
   "metadata": {},
   "source": [
    "## Latitude vs. Temperature Plot"
   ]
  },
  {
   "cell_type": "code",
   "execution_count": 51,
   "metadata": {
    "scrolled": true
   },
   "outputs": [
    {
     "data": {
      "text/plain": [
       "Text(0, 0.5, 'City Temperature')"
      ]
     },
     "execution_count": 51,
     "metadata": {},
     "output_type": "execute_result"
    },
    {
     "data": {
      "image/png": "[encoded data removed]",
      "text/plain": [
       "<Figure size 432x288 with 1 Axes>"
      ]
     },
     "metadata": {
      "needs_background": "light"
     },
     "output_type": "display_data"
    }
   ],
   "source": [
    "x_values=clean_city_data['Lat']\n",
    "y_values=clean_city_data['Max Temp']\n",
    "plt.scatter(x_values, y_values, marker=\"o\", facecolors=\"red\", edgecolors=\"black\",\n",
    "            alpha=.5)\n",
    "plt.xlim(-65,85)\n",
    "plt.ylim(-50, 45)\n",
    "plt.title('Latitude vs. Temperature')\n",
    "plt.xlabel('City Latitude')\n",
    "plt.ylabel('City Temperature')"
   ]
  },
  {
   "cell_type": "markdown",
   "metadata": {},
   "source": [
    "## Latitude vs. Humidity Plot"
   ]
  },
  {
   "cell_type": "code",
   "execution_count": 52,
   "metadata": {},
   "outputs": [
    {
     "data": {
      "text/plain": [
       "Text(0, 0.5, 'City Humidity')"
      ]
     },
     "execution_count": 52,
     "metadata": {},
     "output_type": "execute_result"
    },
    {
     "data": {
      "image/png": "[encoded data removed]",
      "text/plain": [
       "<Figure size 432x288 with 1 Axes>"
      ]
     },
     "metadata": {
      "needs_background": "light"
     },
     "output_type": "display_data"
    }
   ],
   "source": [
    "x_values=clean_city_data['Lat']\n",
    "y_values=clean_city_data['Humidity']\n",
    "plt.scatter(x_values, y_values, marker=\"o\", facecolors=\"red\", edgecolors=\"black\",\n",
    "            alpha=.5)\n",
    "\n",
    "plt.title('Latitude vs. Humidity')\n",
    "plt.xlabel(\"City Latitude\")\n",
    "plt.ylabel(\"City Humidity\")"
   ]
  },
  {
   "cell_type": "markdown",
   "metadata": {},
   "source": [
    "## Latitude vs. Cloudiness Plot"
   ]
  },
  {
   "cell_type": "code",
   "execution_count": 53,
   "metadata": {},
   "outputs": [
    {
     "data": {
      "text/plain": [
       "Text(0, 0.5, 'City Cloudiness')"
      ]
     },
     "execution_count": 53,
     "metadata": {},
     "output_type": "execute_result"
    },
    {
     "data": {
      "image/png": "[encoded data removed]",
      "text/plain": [
       "<Figure size 432x288 with 1 Axes>"
      ]
     },
     "metadata": {
      "needs_background": "light"
     },
     "output_type": "display_data"
    }
   ],
   "source": [
    "x_values=clean_city_data['Lat']\n",
    "y_values=clean_city_data['Cloudiness']\n",
    "plt.scatter(x_values, y_values, marker=\"o\", facecolors=\"red\", edgecolors=\"black\",\n",
    "            alpha=.5)\n",
    "\n",
    "plt.ylim(-5, 105)\n",
    "plt.title('Latitude vs. Cloudiness')\n",
    "plt.xlabel('City Latitude')\n",
    "plt.ylabel('City Cloudiness')"
   ]
  },
  {
   "cell_type": "markdown",
   "metadata": {},
   "source": [
    "## Latitude vs. Wind Speed Plot"
   ]
  },
  {
   "cell_type": "code",
   "execution_count": 54,
   "metadata": {},
   "outputs": [
    {
     "data": {
      "text/plain": [
       "Text(0, 0.5, 'City Wind Speed (mph)')"
      ]
     },
     "execution_count": 54,
     "metadata": {},
     "output_type": "execute_result"
    },
    {
     "data": {
      "image/png": "[encoded data removed]",
      "text/plain": [
       "<Figure size 432x288 with 1 Axes>"
      ]
     },
     "metadata": {
      "needs_background": "light"
     },
     "output_type": "display_data"
    }
   ],
   "source": [
    "x_values=clean_city_data['Lat']\n",
    "y_values=clean_city_data['Wind Speed']\n",
    "plt.scatter(x_values, y_values, marker=\"o\", facecolors=\"red\", edgecolors=\"black\",\n",
    "            alpha=.5)\n",
    "\n",
    "plt.title('Latitude vs. Wind Speed (mph)')\n",
    "plt.xlabel('City Latitude')\n",
    "plt.ylabel('City Wind Speed (mph)')"
   ]
  },
  {
   "cell_type": "markdown",
   "metadata": {},
   "source": [
    "## Linear Regression"
   ]
  },
  {
   "cell_type": "code",
   "execution_count": 65,
   "metadata": {},
   "outputs": [
    {
     "name": "stdout",
     "output_type": "stream",
     "text": [
      "There are 178 cities in the southern hemisphere\n",
      "There are 383 cities in the southern hemisphere\n"
     ]
    }
   ],
   "source": [
    "south_df=clean_city_data.loc[clean_city_data['Lat']<0,:]\n",
    "north_df=clean_city_data.loc[clean_city_data['Lat']>0,:]\n",
    "print(f'There are {len(south_df)} cities in the southern hemisphere')\n",
    "print(f'There are {len(north_df)} cities in the southern hemisphere')"
   ]
  },
  {
   "cell_type": "markdown",
   "metadata": {},
   "source": [
    "####  Northern Hemisphere - Max Temp vs. Latitude Linear Regression"
   ]
  },
  {
   "cell_type": "code",
   "execution_count": 75,
   "metadata": {},
   "outputs": [
    {
     "name": "stdout",
     "output_type": "stream",
     "text": [
      "The r-squared is: 0.7497901403615592\n"
     ]
    },
    {
     "data": {
      "image/png": "[encoded data removed]",
      "text/plain": [
       "<Figure size 432x288 with 1 Axes>"
      ]
     },
     "metadata": {
      "needs_background": "light"
     },
     "output_type": "display_data"
    }
   ],
   "source": [
    "\n",
    "x_values = north_df['Lat']\n",
    "y_values = north_df['Max Temp']\n",
    "(slope, intercept, rvalue, pvalue, stderr) = linregress(x_values, y_values)\n",
    "regress_values = x_values * slope + intercept\n",
    "line_eq = \"y = \" + str(round(slope,2)) + \"x + \" + str(round(intercept,2))\n",
    "plt.scatter(x_values,y_values)\n",
    "plt.plot(x_values,regress_values,\"r-\")\n",
    "plt.annotate(line_eq,(10,-20),fontsize=15,color=\"red\")\n",
    "plt.xlabel('City Latitude')\n",
    "plt.ylabel('Maximum Temperatures')\n",
    "print(f\"The r-squared is: {rvalue**2}\")\n",
    "plt.show()"
   ]
  },
  {
   "cell_type": "markdown",
   "metadata": {},
   "source": [
    "####  Southern Hemisphere - Max Temp vs. Latitude Linear Regression"
   ]
  },
  {
   "cell_type": "code",
   "execution_count": 76,
   "metadata": {},
   "outputs": [
    {
     "name": "stdout",
     "output_type": "stream",
     "text": [
      "The r-squared is: 0.152323543279483\n"
     ]
    },
    {
     "data": {
      "image/png": "[encoded data removed]",
      "text/plain": [
       "<Figure size 432x288 with 1 Axes>"
      ]
     },
     "metadata": {
      "needs_background": "light"
     },
     "output_type": "display_data"
    }
   ],
   "source": [
    "\n",
    "x_values = south_df['Lat']\n",
    "y_values = south_df['Max Temp']\n",
    "(slope, intercept, rvalue, pvalue, stderr) = linregress(x_values, y_values)\n",
    "regress_values = x_values * slope + intercept\n",
    "line_eq = \"y = \" + str(round(slope,2)) + \"x + \" + str(round(intercept,2))\n",
    "plt.scatter(x_values,y_values)\n",
    "plt.plot(x_values,regress_values,\"r-\")\n",
    "plt.annotate(line_eq,(-30,10),fontsize=15,color=\"red\")\n",
    "plt.xlabel('City Latitude')\n",
    "plt.ylabel('Maximum Temperatures')\n",
    "print(f\"The r-squared is: {rvalue**2}\")\n",
    "plt.show()"
   ]
  },
  {
   "cell_type": "markdown",
   "metadata": {},
   "source": [
    "####  Northern Hemisphere - Humidity (%) vs. Latitude Linear Regression"
   ]
  },
  {
   "cell_type": "code",
   "execution_count": null,
   "metadata": {},
   "outputs": [],
   "source": [
    "\n",
    "x_values = north_df['Lat']\n",
    "y_values = north_df['Humidity']\n",
    "(slope, intercept, rvalue, pvalue, stderr) = linregress(x_values, y_values)\n",
    "regress_values = x_values * slope + intercept\n",
    "line_eq = \"y = \" + str(round(slope,2)) + \"x + \" + str(round(intercept,2))\n",
    "plt.scatter(x_values,y_values)\n",
    "plt.plot(x_values,regress_values,\"r-\")\n",
    "plt.annotate(line_eq,(16,44),fontsize=15,color=\"red\")\n",
    "plt.xlabel('City Latitude')\n",
    "plt.ylabel('Humidity')\n",
    "print(f\"The r-squared is: {rvalue**2}\")\n",
    "plt.show()"
   ]
  },
  {
   "cell_type": "markdown",
   "metadata": {},
   "source": [
    "####  Southern Hemisphere - Humidity (%) vs. Latitude Linear Regression"
   ]
  },
  {
   "cell_type": "code",
   "execution_count": 79,
   "metadata": {},
   "outputs": [
    {
     "name": "stdout",
     "output_type": "stream",
     "text": [
      "The r-squared is: 0.21793497140860893\n"
     ]
    },
    {
     "data": {
      "image/png": "[encoded data removed]",
      "text/plain": [
       "<Figure size 432x288 with 1 Axes>"
      ]
     },
     "metadata": {
      "needs_background": "light"
     },
     "output_type": "display_data"
    }
   ],
   "source": [
    "x_values = south_df['Lat']\n",
    "y_values = south_df['Humidity']\n",
    "(slope, intercept, rvalue, pvalue, stderr) = linregress(x_values, y_values)\n",
    "regress_values = x_values * slope + intercept\n",
    "line_eq = \"y = \" + str(round(slope,2)) + \"x + \" + str(round(intercept,2))\n",
    "plt.scatter(x_values,y_values)\n",
    "plt.plot(x_values,regress_values,\"r-\")\n",
    "plt.annotate(line_eq,(16,44),fontsize=15,color=\"red\")\n",
    "plt.xlabel('City Latitude')\n",
    "plt.ylabel('Humidity')\n",
    "print(f\"The r-squared is: {rvalue**2}\")\n",
    "plt.show()"
   ]
  },
  {
   "cell_type": "markdown",
   "metadata": {},
   "source": [
    "####  Northern Hemisphere - Cloudiness (%) vs. Latitude Linear Regression"
   ]
  },
  {
   "cell_type": "code",
   "execution_count": 73,
   "metadata": {},
   "outputs": [
    {
     "name": "stdout",
     "output_type": "stream",
     "text": [
      "The r-squared is: 0.04806704648643115\n"
     ]
    },
    {
     "data": {
      "image/png": "[encoded data removed]",
      "text/plain": [
       "<Figure size 432x288 with 1 Axes>"
      ]
     },
     "metadata": {
      "needs_background": "light"
     },
     "output_type": "display_data"
    }
   ],
   "source": [
    "\n",
    "x_values = north_df['Lat']\n",
    "y_values = north_df['Cloudiness']\n",
    "(slope, intercept, rvalue, pvalue, stderr) = linregress(x_values, y_values)\n",
    "regress_values = x_values * slope + intercept\n",
    "line_eq = \"y = \" + str(round(slope,2)) + \"x + \" + str(round(intercept,2))\n",
    "plt.scatter(x_values,y_values)\n",
    "plt.plot(x_values,regress_values,\"r-\")\n",
    "plt.annotate(line_eq,(16,44),fontsize=15,color=\"red\")\n",
    "plt.xlabel('City Latitude')\n",
    "plt.ylabel('Overall Cloudiness')\n",
    "print(f\"The r-squared is: {rvalue**2}\")\n",
    "plt.show()"
   ]
  },
  {
   "cell_type": "markdown",
   "metadata": {},
   "source": [
    "####  Southern Hemisphere - Cloudiness (%) vs. Latitude Linear Regression"
   ]
  },
  {
   "cell_type": "code",
   "execution_count": 80,
   "metadata": {},
   "outputs": [
    {
     "name": "stdout",
     "output_type": "stream",
     "text": [
      "The r-squared is: 0.1637022793554359\n"
     ]
    },
    {
     "data": {
      "image/png": "[encoded data removed]",
      "text/plain": [
       "<Figure size 432x288 with 1 Axes>"
      ]
     },
     "metadata": {
      "needs_background": "light"
     },
     "output_type": "display_data"
    }
   ],
   "source": [
    "x_values = south_df['Lat']\n",
    "y_values = south_df['Cloudiness']\n",
    "(slope, intercept, rvalue, pvalue, stderr) = linregress(x_values, y_values)\n",
    "regress_values = x_values * slope + intercept\n",
    "line_eq = \"y = \" + str(round(slope,2)) + \"x + \" + str(round(intercept,2))\n",
    "plt.scatter(x_values,y_values)\n",
    "plt.plot(x_values,regress_values,\"r-\")\n",
    "plt.annotate(line_eq,(16,44),fontsize=15,color=\"red\")\n",
    "plt.xlabel('City Latitude')\n",
    "plt.ylabel('Overall Cloudiness')\n",
    "print(f\"The r-squared is: {rvalue**2}\")\n",
    "plt.show()"
   ]
  },
  {
   "cell_type": "markdown",
   "metadata": {},
   "source": [
    "####  Northern Hemisphere - Wind Speed (mph) vs. Latitude Linear Regression"
   ]
  },
  {
   "cell_type": "code",
   "execution_count": 78,
   "metadata": {},
   "outputs": [
    {
     "name": "stdout",
     "output_type": "stream",
     "text": [
      "The r-squared is: 0.007319256337342135\n"
     ]
    },
    {
     "data": {
      "image/png": "[encoded data removed]",
      "text/plain": [
       "<Figure size 432x288 with 1 Axes>"
      ]
     },
     "metadata": {
      "needs_background": "light"
     },
     "output_type": "display_data"
    }
   ],
   "source": [
    "x_values = north_df['Lat']\n",
    "y_values = north_df['Wind Speed']\n",
    "(slope, intercept, rvalue, pvalue, stderr) = linregress(x_values, y_values)\n",
    "regress_values = x_values * slope + intercept\n",
    "line_eq = \"y = \" + str(round(slope,2)) + \"x + \" + str(round(intercept,2))\n",
    "plt.scatter(x_values,y_values)\n",
    "plt.plot(x_values,regress_values,\"r-\")\n",
    "plt.annotate(line_eq,(10,14),fontsize=15,color=\"red\")\n",
    "plt.xlabel('City Latitude')\n",
    "plt.ylabel('Overall Wind Speed')\n",
    "print(f\"The r-squared is: {rvalue**2}\")\n",
    "plt.show()"
   ]
  },
  {
   "cell_type": "markdown",
   "metadata": {},
   "source": [
    "####  Southern Hemisphere - Wind Speed (mph) vs. Latitude Linear Regression"
   ]
  },
  {
   "cell_type": "code",
   "execution_count": 81,
   "metadata": {},
   "outputs": [
    {
     "name": "stdout",
     "output_type": "stream",
     "text": [
      "The r-squared is: 0.03813844958917862\n"
     ]
    },
    {
     "data": {
      "image/png": "[encoded data removed]",
      "text/plain": [
       "<Figure size 432x288 with 1 Axes>"
      ]
     },
     "metadata": {
      "needs_background": "light"
     },
     "output_type": "display_data"
    }
   ],
   "source": [
    "x_values = south_df['Lat']\n",
    "y_values = south_df['Wind Speed']\n",
    "(slope, intercept, rvalue, pvalue, stderr) = linregress(x_values, y_values)\n",
    "regress_values = x_values * slope + intercept\n",
    "line_eq = \"y = \" + str(round(slope,2)) + \"x + \" + str(round(intercept,2))\n",
    "plt.scatter(x_values,y_values)\n",
    "plt.plot(x_values,regress_values,\"r-\")\n",
    "plt.annotate(line_eq,(10,14),fontsize=15,color=\"red\")\n",
    "plt.xlabel('City Latitude')\n",
    "plt.ylabel('Overall Wind Speed')\n",
    "print(f\"The r-squared is: {rvalue**2}\")\n",
    "plt.show()"
   ]
  }
 ],
 "metadata": {
  "anaconda-cloud": {},
  "kernel_info": {
   "name": "python3"
  },
  "kernelspec": {
   "display_name": "Python 3 (ipykernel)",
   "language": "python",
   "name": "python3"
  },
  "language_info": {
   "codemirror_mode": {
    "name": "ipython",
    "version": 3
   },
   "file_extension": ".py",
   "mimetype": "text/x-python",
   "name": "python",
   "nbconvert_exporter": "python",
   "pygments_lexer": "ipython3",
   "version": "3.9.7"
  },
  "latex_envs": {
   "LaTeX_envs_menu_present": true,
   "autoclose": false,
   "autocomplete": true,
   "bibliofile": "biblio.bib",
   "cite_by": "apalike",
   "current_citInitial": 1,
   "eqLabelWithNumbers": true,
   "eqNumInitial": 1,
   "hotkeys": {
    "equation": "Ctrl-E",
    "itemize": "Ctrl-I"
   },
   "labels_anchors": false,
   "latex_user_defs": false,
   "report_style_numbering": false,
   "user_envs_cfg": false
  },
  "nteract": {
   "version": "0.12.3"
  }
 },
 "nbformat": 4,
 "nbformat_minor": 2
}
