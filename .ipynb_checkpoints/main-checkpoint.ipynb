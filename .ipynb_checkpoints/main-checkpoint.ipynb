{
 "cells": [
  {
   "cell_type": "code",
   "execution_count": 21,
   "id": "e7890712",
   "metadata": {},
   "outputs": [],
   "source": [
    "import gmaps\n",
    "import json\n",
    "import pandas as pd\n",
    "from config import api_key\n",
    "import requests\n",
    "import matplotlib.pyplot as plt\n",
    "\n",
    "# Google developer API key\n",
    "from config import gkey\n",
    "from scipy import stats\n",
    "\n",
    "# Configure gmaps\n",
    "#gmaps.configure(api_key=gkey)"
   ]
  },
  {
   "cell_type": "code",
   "execution_count": 22,
   "id": "f4fb172e",
   "metadata": {},
   "outputs": [],
   "source": [
    "# Save config information.\n",
    "url = \"http://api.openweathermap.org/data/2.5/weather?\"\n",
    "units = \"metric\"\n",
    "city = \"London\"\n",
    "# Build partial query URL\n",
    "query_url = f\"{url}appid={api_key}&units={units}&q=\"+city"
   ]
  },
  {
   "cell_type": "code",
   "execution_count": 23,
   "id": "d0219d6e",
   "metadata": {},
   "outputs": [
    {
     "name": "stdout",
     "output_type": "stream",
     "text": [
      "http://api.openweathermap.org/data/2.5/weather?appid=c95fc3d3c6f84f74d2c97630e8f5e711&units=metric&q=London\n"
     ]
    }
   ],
   "source": [
    "print(query_url)"
   ]
  },
  {
   "cell_type": "code",
   "execution_count": 24,
   "id": "dd6cca43",
   "metadata": {},
   "outputs": [
    {
     "name": "stdout",
     "output_type": "stream",
     "text": [
      "<Response [200]>\n"
     ]
    }
   ],
   "source": [
    "print(requests.get(query_url))"
   ]
  },
  {
   "cell_type": "code",
   "execution_count": null,
   "id": "7c401fe9",
   "metadata": {},
   "outputs": [],
   "source": []
  }
 ],
 "metadata": {
  "kernelspec": {
   "display_name": "Python 3 (ipykernel)",
   "language": "python",
   "name": "python3"
  },
  "language_info": {
   "codemirror_mode": {
    "name": "ipython",
    "version": 3
   },
   "file_extension": ".py",
   "mimetype": "text/x-python",
   "name": "python",
   "nbconvert_exporter": "python",
   "pygments_lexer": "ipython3",
   "version": "3.9.7"
  }
 },
 "nbformat": 4,
 "nbformat_minor": 5
}
